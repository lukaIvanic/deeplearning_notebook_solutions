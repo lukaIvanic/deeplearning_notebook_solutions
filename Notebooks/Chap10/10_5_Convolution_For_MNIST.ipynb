{
  "nbformat": 4,
  "nbformat_minor": 0,
  "metadata": {
    "colab": {
      "provenance": [],
      "include_colab_link": true
    },
    "kernelspec": {
      "name": "python3",
      "display_name": "Python 3"
    },
    "language_info": {
      "name": "python"
    }
  },
  "cells": [
    {
      "cell_type": "markdown",
      "metadata": {
        "id": "view-in-github",
        "colab_type": "text"
      },
      "source": [
        "<a href=\"https://colab.research.google.com/github/lukaIvanic/deeplearning_notebook_solutions/blob/main/Notebooks/Chap10/10_5_Convolution_For_MNIST.ipynb\" target=\"_parent\"><img src=\"https://colab.research.google.com/assets/colab-badge.svg\" alt=\"Open In Colab\"/></a>"
      ]
    },
    {
      "cell_type": "markdown",
      "source": [
        "# **Notebook 10.5: Convolution for MNIST**\n",
        "\n",
        "This notebook builds a proper network for 2D convolution.  It works with the MNIST dataset (figure 15.15a), which was the original classic dataset for classifying images.  The network will take a 28x28 grayscale image and classify it into one of 10 classes representing a digit.\n",
        "\n",
        "The code is adapted from https://nextjournal.com/gkoehler/pytorch-mnist\n",
        "\n",
        "Work through the cells below, running each cell in turn. In various places you will see the words \"TODO\". Follow the instructions at these places and make predictions about what is going to happen or write code to complete the functions.\n",
        "\n",
        "Contact me at udlbookmail@gmail.com if you find any mistakes or have any suggestions.\n"
      ],
      "metadata": {
        "id": "t9vk9Elugvmi"
      }
    },
    {
      "cell_type": "code",
      "source": [
        "import torch\n",
        "import torchvision\n",
        "import torch.nn as nn\n",
        "import torch.optim as optim\n",
        "import matplotlib.pyplot as plt\n",
        "import random"
      ],
      "metadata": {
        "id": "YrXWAH7sUWvU"
      },
      "execution_count": 2,
      "outputs": []
    },
    {
      "cell_type": "code",
      "source": [
        "# Run this once to load the train and test data straight into a dataloader class\n",
        "# that will provide the batches\n",
        "\n",
        "# (It may complain that some files are missing because the files seem to have been\n",
        "# reorganized on the underlying website, but it still seems to work). If everything is working\n",
        "# properly, then the whole notebook should run to the end without further problems\n",
        "# even before you make changes.\n",
        "batch_size_train = 64\n",
        "batch_size_test = 1000\n",
        "\n",
        "# TODO Change this directory to point towards an existing directory\n",
        "myDir = '/files/'\n",
        "\n",
        "train_loader = torch.utils.data.DataLoader(\n",
        "  torchvision.datasets.MNIST(myDir, train=True, download=True,\n",
        "                             transform=torchvision.transforms.Compose([\n",
        "                               torchvision.transforms.ToTensor(),\n",
        "                               torchvision.transforms.Normalize(\n",
        "                                 (0.1307,), (0.3081,))\n",
        "                             ])),\n",
        "  batch_size=batch_size_train, shuffle=True)\n",
        "\n",
        "test_loader = torch.utils.data.DataLoader(\n",
        "  torchvision.datasets.MNIST(myDir, train=False, download=True,\n",
        "                             transform=torchvision.transforms.Compose([\n",
        "                               torchvision.transforms.ToTensor(),\n",
        "                               torchvision.transforms.Normalize(\n",
        "                                 (0.1307,), (0.3081,))\n",
        "                             ])),\n",
        "  batch_size=batch_size_test, shuffle=True)"
      ],
      "metadata": {
        "id": "wScBGXXFVadm",
        "outputId": "6e06c429-f291-4427-9814-177e0f213ed0",
        "colab": {
          "base_uri": "https://localhost:8080/"
        }
      },
      "execution_count": 3,
      "outputs": [
        {
          "output_type": "stream",
          "name": "stderr",
          "text": [
            "100%|██████████| 9.91M/9.91M [00:00<00:00, 21.5MB/s]\n",
            "100%|██████████| 28.9k/28.9k [00:00<00:00, 580kB/s]\n",
            "100%|██████████| 1.65M/1.65M [00:00<00:00, 5.50MB/s]\n",
            "100%|██████████| 4.54k/4.54k [00:00<00:00, 5.16MB/s]\n"
          ]
        }
      ]
    },
    {
      "cell_type": "code",
      "source": [
        "# Let's draw some of the training data\n",
        "examples = enumerate(test_loader)\n",
        "batch_idx, (example_data, example_targets) = next(examples)\n",
        "\n",
        "fig = plt.figure()\n",
        "for i in range(6):\n",
        "  plt.subplot(2,3,i+1)\n",
        "  plt.tight_layout()\n",
        "  plt.imshow(example_data[i][0], cmap='gray', interpolation='none')\n",
        "  plt.title(\"Ground Truth: {}\".format(example_targets[i]))\n",
        "  plt.xticks([])\n",
        "  plt.yticks([])\n",
        "plt.show()"
      ],
      "metadata": {
        "id": "8bKADvLHbiV5",
        "outputId": "ebc50178-c292-46e6-c76a-025d7345251b",
        "colab": {
          "base_uri": "https://localhost:8080/",
          "height": 438
        }
      },
      "execution_count": 4,
      "outputs": [
        {
          "output_type": "display_data",
          "data": {
            "text/plain": [
              "<Figure size 640x480 with 6 Axes>"
            ],
            "image/png": "[encoded data removed]"
          },
          "metadata": {}
        }
      ]
    },
    {
      "cell_type": "markdown",
      "source": [
        "Define the network.  This is a more typical way to define a network than the sequential structure.  We define a class for the network, and define the parameters in the constructor.  Then we use a function called forward to actually run the network.  It's easy to see how you might use residual connections in this format."
      ],
      "metadata": {
        "id": "_sFvRDGrl4qe"
      }
    },
    {
      "cell_type": "code",
      "source": [
        "from os import X_OK\n",
        "# TODO Change this class to implement\n",
        "# 1. A valid convolution with kernel size 5, 1 input channel and 10 output channels\n",
        "# 2. A max pooling operation over a 2x2 area\n",
        "# 3. A Relu\n",
        "# 4. A valid convolution with kernel size 5, 10 input channels and 20 output channels\n",
        "# 5. A 2D Dropout layer\n",
        "# 6. A max pooling operation over a 2x2 area\n",
        "# 7. A relu\n",
        "# 8. A flattening operation\n",
        "# 9. A fully connected layer mapping from (whatever dimensions we are at-- find out using .shape) to 50\n",
        "# 10. A ReLU\n",
        "# 11. A fully connected layer mapping from 50 to 10 dimensions\n",
        "# 12. A softmax function.\n",
        "\n",
        "# Replace this class which implements a minimal network (which still does okay)\n",
        "class Net(nn.Module):\n",
        "    def __init__(self):\n",
        "        super(Net, self).__init__()\n",
        "        # Valid convolution, 1 channel in, 2 channels out, stride 1, kernel size = 3\n",
        "        self.conv1 = nn.Conv2d(in_channels=1, out_channels=10, kernel_size=5, padding=\"valid\")\n",
        "        self.maxpool2 = nn.MaxPool2d(kernel_size=2)\n",
        "        self.conv2 = nn.Conv2d(in_channels=10, out_channels=20, kernel_size=5, padding=\"valid\")\n",
        "        self.drop = nn.Dropout2d(p=0.5, inplace=False)\n",
        "        self.maxpool3 = nn.MaxPool2d(kernel_size=2)\n",
        "        self.flatten = nn.Flatten()\n",
        "        # Fully connected layer\n",
        "        self.lin1 = nn.Linear(320, 50)\n",
        "        self.lin2 = nn.Linear(50, 10)\n",
        "        self.logSoftmax = nn.LogSoftmax(dim=1)\n",
        "\n",
        "    def forward(self, x):\n",
        "\n",
        "        x = self.conv1(x)                               # 1. A valid convolution with kernel size 5, 1 input channel and 10 output channels\n",
        "        x = self.maxpool2(x)                            # 2. A max pooling operation over a 2x2 area\n",
        "        x = nn.functional.relu(x)                       # 3. A ReLU\n",
        "        x = self.conv2(x)                               # 4. A valid convolution with kernel size 5, 10 input channels and 20 output channels\n",
        "        x = self.drop(x)                                # 5. A 2D Dropout layer\n",
        "        x = self.maxpool3(x)                            # 6. A max pooling operation over a 2x2 area\n",
        "        x = nn.functional.relu(x)                       # 7. A relu\n",
        "        x = self.flatten(x)                             # 8. A flattening operation\n",
        "        x = self.lin1(x)                                # 9. A fully connected layer mapping from (whatever dimensions we are at-- find out using .shape) to 50\n",
        "        x = nn.functional.relu(x)                       # 10. A ReLU\n",
        "        x = self.lin2(x)                                # 11. A fully connected layer mapping from 50 to 10 dimensions\n",
        "        x = self.logSoftmax(x)                          # 12. A softmax function.\n",
        "\n",
        "        return x\n",
        "\n",
        "\n",
        "\n",
        "\n"
      ],
      "metadata": {
        "id": "EQkvw2KOPVl7"
      },
      "execution_count": 39,
      "outputs": []
    },
    {
      "cell_type": "code",
      "source": [
        "# He initialization of weights\n",
        "def weights_init(layer_in):\n",
        "  if isinstance(layer_in, nn.Linear):\n",
        "    nn.init.kaiming_uniform_(layer_in.weight)\n",
        "    layer_in.bias.data.fill_(0.0)"
      ],
      "metadata": {
        "id": "qWZtkCZcU_dg"
      },
      "execution_count": 40,
      "outputs": []
    },
    {
      "cell_type": "code",
      "source": [
        "# Create network\n",
        "model = Net()\n",
        "# Initialize model weights\n",
        "model.apply(weights_init)\n",
        "# Define optimizer\n",
        "optimizer = optim.SGD(model.parameters(), lr=0.01, momentum=0.5)"
      ],
      "metadata": {
        "id": "FslroPJJffrh"
      },
      "execution_count": 41,
      "outputs": []
    },
    {
      "cell_type": "code",
      "source": [
        "# Main training routine\n",
        "def train(epoch):\n",
        "  model.train()\n",
        "  # Get each\n",
        "  for batch_idx, (data, target) in enumerate(train_loader):\n",
        "    optimizer.zero_grad()\n",
        "    output = model(data)\n",
        "    loss = nn.functional.nll_loss(output, target)\n",
        "    loss.backward()\n",
        "    optimizer.step()\n",
        "    # Store results\n",
        "    if batch_idx % 10 == 0:\n",
        "      print('Train Epoch: {} [{}/{}]\\tLoss: {:.6f}'.format(\n",
        "        epoch, batch_idx * len(data), len(train_loader.dataset), loss.item()))"
      ],
      "metadata": {
        "id": "xKQd9PzkQ766"
      },
      "execution_count": 42,
      "outputs": []
    },
    {
      "cell_type": "code",
      "source": [
        "# Run on test data\n",
        "def test():\n",
        "  model.eval()\n",
        "  test_loss = 0\n",
        "  correct = 0\n",
        "  with torch.no_grad():\n",
        "    for data, target in test_loader:\n",
        "      output = model(data)\n",
        "      test_loss += nn.functional.nll_loss(output, target, size_average=False).item()\n",
        "      pred = output.data.max(1, keepdim=True)[1]\n",
        "      correct += pred.eq(target.data.view_as(pred)).sum()\n",
        "  test_loss /= len(test_loader.dataset)\n",
        "  print('\\nTest set: Avg. loss: {:.4f}, Accuracy: {}/{} ({:.0f}%)\\n'.format(\n",
        "    test_loss, correct, len(test_loader.dataset),\n",
        "    100. * correct / len(test_loader.dataset)))\n",
        "\n",
        "test()"
      ],
      "metadata": {
        "id": "Byn-f7qWRLxX",
        "outputId": "ff5fce91-55e6-4ffa-d8db-fb35c2d88814",
        "colab": {
          "base_uri": "https://localhost:8080/"
        }
      },
      "execution_count": 43,
      "outputs": [
        {
          "output_type": "stream",
          "name": "stdout",
          "text": [
            "\n",
            "Test set: Avg. loss: 2.4624, Accuracy: 1385/10000 (14%)\n",
            "\n"
          ]
        }
      ]
    },
    {
      "cell_type": "code",
      "source": [
        "# Get initial performance\n",
        "# Train for three epochs\n",
        "n_epochs = 3\n",
        "for epoch in range(1, n_epochs + 1):\n",
        "  train(epoch)\n",
        "  test()"
      ],
      "metadata": {
        "id": "YgLaex1pfhqz",
        "outputId": "af0429d1-3f41-4125-9a46-120c5b9c3618",
        "colab": {
          "base_uri": "https://localhost:8080/"
        }
      },
      "execution_count": 44,
      "outputs": [
        {
          "output_type": "stream",
          "name": "stdout",
          "text": [
            "Train Epoch: 1 [0/60000]\tLoss: 2.573660\n",
            "Train Epoch: 1 [640/60000]\tLoss: 2.203512\n",
            "Train Epoch: 1 [1280/60000]\tLoss: 2.104131\n",
            "Train Epoch: 1 [1920/60000]\tLoss: 1.905626\n",
            "Train Epoch: 1 [2560/60000]\tLoss: 1.809052\n",
            "Train Epoch: 1 [3200/60000]\tLoss: 1.591362\n",
            "Train Epoch: 1 [3840/60000]\tLoss: 1.632657\n",
            "Train Epoch: 1 [4480/60000]\tLoss: 1.472050\n",
            "Train Epoch: 1 [5120/60000]\tLoss: 1.247608\n",
            "Train Epoch: 1 [5760/60000]\tLoss: 0.942672\n",
            "Train Epoch: 1 [6400/60000]\tLoss: 0.908380\n",
            "Train Epoch: 1 [7040/60000]\tLoss: 1.343955\n",
            "Train Epoch: 1 [7680/60000]\tLoss: 0.804289\n",
            "Train Epoch: 1 [8320/60000]\tLoss: 0.651489\n",
            "Train Epoch: 1 [8960/60000]\tLoss: 0.573492\n",
            "Train Epoch: 1 [9600/60000]\tLoss: 0.626997\n",
            "Train Epoch: 1 [10240/60000]\tLoss: 0.823983\n",
            "Train Epoch: 1 [10880/60000]\tLoss: 0.789709\n",
            "Train Epoch: 1 [11520/60000]\tLoss: 0.617222\n",
            "Train Epoch: 1 [12160/60000]\tLoss: 0.541354\n",
            "Train Epoch: 1 [12800/60000]\tLoss: 0.786691\n",
            "Train Epoch: 1 [13440/60000]\tLoss: 0.637875\n",
            "Train Epoch: 1 [14080/60000]\tLoss: 0.510458\n",
            "Train Epoch: 1 [14720/60000]\tLoss: 0.732924\n",
            "Train Epoch: 1 [15360/60000]\tLoss: 0.505411\n",
            "Train Epoch: 1 [16000/60000]\tLoss: 0.770151\n",
            "Train Epoch: 1 [16640/60000]\tLoss: 0.454661\n",
            "Train Epoch: 1 [17280/60000]\tLoss: 0.394645\n",
            "Train Epoch: 1 [17920/60000]\tLoss: 0.349576\n",
            "Train Epoch: 1 [18560/60000]\tLoss: 0.463733\n",
            "Train Epoch: 1 [19200/60000]\tLoss: 0.631984\n",
            "Train Epoch: 1 [19840/60000]\tLoss: 0.376313\n",
            "Train Epoch: 1 [20480/60000]\tLoss: 0.371263\n",
            "Train Epoch: 1 [21120/60000]\tLoss: 0.608254\n",
            "Train Epoch: 1 [21760/60000]\tLoss: 0.527290\n",
            "Train Epoch: 1 [22400/60000]\tLoss: 0.350162\n",
            "Train Epoch: 1 [23040/60000]\tLoss: 0.486937\n",
            "Train Epoch: 1 [23680/60000]\tLoss: 0.438319\n",
            "Train Epoch: 1 [24320/60000]\tLoss: 0.482088\n",
            "Train Epoch: 1 [24960/60000]\tLoss: 0.655744\n",
            "Train Epoch: 1 [25600/60000]\tLoss: 0.408025\n",
            "Train Epoch: 1 [26240/60000]\tLoss: 0.448059\n",
            "Train Epoch: 1 [26880/60000]\tLoss: 0.411334\n",
            "Train Epoch: 1 [27520/60000]\tLoss: 0.461826\n",
            "Train Epoch: 1 [28160/60000]\tLoss: 0.425289\n",
            "Train Epoch: 1 [28800/60000]\tLoss: 0.486764\n",
            "Train Epoch: 1 [29440/60000]\tLoss: 0.465717\n",
            "Train Epoch: 1 [30080/60000]\tLoss: 0.325657\n",
            "Train Epoch: 1 [30720/60000]\tLoss: 0.395757\n",
            "Train Epoch: 1 [31360/60000]\tLoss: 0.152762\n",
            "Train Epoch: 1 [32000/60000]\tLoss: 0.422217\n",
            "Train Epoch: 1 [32640/60000]\tLoss: 0.326732\n",
            "Train Epoch: 1 [33280/60000]\tLoss: 0.188329\n",
            "Train Epoch: 1 [33920/60000]\tLoss: 0.360552\n",
            "Train Epoch: 1 [34560/60000]\tLoss: 0.303288\n",
            "Train Epoch: 1 [35200/60000]\tLoss: 0.303261\n",
            "Train Epoch: 1 [35840/60000]\tLoss: 0.192422\n",
            "Train Epoch: 1 [36480/60000]\tLoss: 0.371591\n",
            "Train Epoch: 1 [37120/60000]\tLoss: 0.372984\n",
            "Train Epoch: 1 [37760/60000]\tLoss: 0.283498\n",
            "Train Epoch: 1 [38400/60000]\tLoss: 0.201371\n",
            "Train Epoch: 1 [39040/60000]\tLoss: 0.245051\n",
            "Train Epoch: 1 [39680/60000]\tLoss: 0.239484\n",
            "Train Epoch: 1 [40320/60000]\tLoss: 0.275248\n",
            "Train Epoch: 1 [40960/60000]\tLoss: 0.244009\n",
            "Train Epoch: 1 [41600/60000]\tLoss: 0.141267\n",
            "Train Epoch: 1 [42240/60000]\tLoss: 0.142239\n",
            "Train Epoch: 1 [42880/60000]\tLoss: 0.454279\n",
            "Train Epoch: 1 [43520/60000]\tLoss: 0.404863\n",
            "Train Epoch: 1 [44160/60000]\tLoss: 0.578312\n",
            "Train Epoch: 1 [44800/60000]\tLoss: 0.442299\n",
            "Train Epoch: 1 [45440/60000]\tLoss: 0.185615\n",
            "Train Epoch: 1 [46080/60000]\tLoss: 0.269140\n",
            "Train Epoch: 1 [46720/60000]\tLoss: 0.244014\n",
            "Train Epoch: 1 [47360/60000]\tLoss: 0.207116\n",
            "Train Epoch: 1 [48000/60000]\tLoss: 0.497689\n",
            "Train Epoch: 1 [48640/60000]\tLoss: 0.230990\n",
            "Train Epoch: 1 [49280/60000]\tLoss: 0.301337\n",
            "Train Epoch: 1 [49920/60000]\tLoss: 0.184748\n",
            "Train Epoch: 1 [50560/60000]\tLoss: 0.257947\n",
            "Train Epoch: 1 [51200/60000]\tLoss: 0.120213\n",
            "Train Epoch: 1 [51840/60000]\tLoss: 0.291851\n",
            "Train Epoch: 1 [52480/60000]\tLoss: 0.197260\n",
            "Train Epoch: 1 [53120/60000]\tLoss: 0.163208\n",
            "Train Epoch: 1 [53760/60000]\tLoss: 0.260257\n",
            "Train Epoch: 1 [54400/60000]\tLoss: 0.241078\n",
            "Train Epoch: 1 [55040/60000]\tLoss: 0.316752\n",
            "Train Epoch: 1 [55680/60000]\tLoss: 0.282593\n",
            "Train Epoch: 1 [56320/60000]\tLoss: 0.236200\n",
            "Train Epoch: 1 [56960/60000]\tLoss: 0.127005\n",
            "Train Epoch: 1 [57600/60000]\tLoss: 0.152478\n",
            "Train Epoch: 1 [58240/60000]\tLoss: 0.187398\n",
            "Train Epoch: 1 [58880/60000]\tLoss: 0.101776\n",
            "Train Epoch: 1 [59520/60000]\tLoss: 0.165493\n",
            "\n",
            "Test set: Avg. loss: 0.1195, Accuracy: 9652/10000 (97%)\n",
            "\n",
            "Train Epoch: 2 [0/60000]\tLoss: 0.107914\n",
            "Train Epoch: 2 [640/60000]\tLoss: 0.259485\n",
            "Train Epoch: 2 [1280/60000]\tLoss: 0.111547\n",
            "Train Epoch: 2 [1920/60000]\tLoss: 0.714195\n",
            "Train Epoch: 2 [2560/60000]\tLoss: 0.213345\n",
            "Train Epoch: 2 [3200/60000]\tLoss: 0.310774\n",
            "Train Epoch: 2 [3840/60000]\tLoss: 0.209357\n",
            "Train Epoch: 2 [4480/60000]\tLoss: 0.662744\n",
            "Train Epoch: 2 [5120/60000]\tLoss: 0.069893\n",
            "Train Epoch: 2 [5760/60000]\tLoss: 0.323216\n",
            "Train Epoch: 2 [6400/60000]\tLoss: 0.151004\n",
            "Train Epoch: 2 [7040/60000]\tLoss: 0.203734\n",
            "Train Epoch: 2 [7680/60000]\tLoss: 0.111914\n",
            "Train Epoch: 2 [8320/60000]\tLoss: 0.164860\n",
            "Train Epoch: 2 [8960/60000]\tLoss: 0.215413\n",
            "Train Epoch: 2 [9600/60000]\tLoss: 0.126957\n",
            "Train Epoch: 2 [10240/60000]\tLoss: 0.158318\n",
            "Train Epoch: 2 [10880/60000]\tLoss: 0.089702\n",
            "Train Epoch: 2 [11520/60000]\tLoss: 0.160641\n",
            "Train Epoch: 2 [12160/60000]\tLoss: 0.291876\n",
            "Train Epoch: 2 [12800/60000]\tLoss: 0.247750\n",
            "Train Epoch: 2 [13440/60000]\tLoss: 0.371191\n",
            "Train Epoch: 2 [14080/60000]\tLoss: 0.166377\n",
            "Train Epoch: 2 [14720/60000]\tLoss: 0.235335\n",
            "Train Epoch: 2 [15360/60000]\tLoss: 0.328765\n",
            "Train Epoch: 2 [16000/60000]\tLoss: 0.052950\n",
            "Train Epoch: 2 [16640/60000]\tLoss: 0.071926\n",
            "Train Epoch: 2 [17280/60000]\tLoss: 0.161565\n",
            "Train Epoch: 2 [17920/60000]\tLoss: 0.331547\n",
            "Train Epoch: 2 [18560/60000]\tLoss: 0.118234\n",
            "Train Epoch: 2 [19200/60000]\tLoss: 0.364613\n",
            "Train Epoch: 2 [19840/60000]\tLoss: 0.280558\n",
            "Train Epoch: 2 [20480/60000]\tLoss: 0.100293\n",
            "Train Epoch: 2 [21120/60000]\tLoss: 0.211510\n",
            "Train Epoch: 2 [21760/60000]\tLoss: 0.383665\n",
            "Train Epoch: 2 [22400/60000]\tLoss: 0.412102\n",
            "Train Epoch: 2 [23040/60000]\tLoss: 0.114891\n",
            "Train Epoch: 2 [23680/60000]\tLoss: 0.087275\n",
            "Train Epoch: 2 [24320/60000]\tLoss: 0.144257\n",
            "Train Epoch: 2 [24960/60000]\tLoss: 0.230328\n",
            "Train Epoch: 2 [25600/60000]\tLoss: 0.137989\n",
            "Train Epoch: 2 [26240/60000]\tLoss: 0.155144\n",
            "Train Epoch: 2 [26880/60000]\tLoss: 0.139699\n",
            "Train Epoch: 2 [27520/60000]\tLoss: 0.097974\n",
            "Train Epoch: 2 [28160/60000]\tLoss: 0.106137\n",
            "Train Epoch: 2 [28800/60000]\tLoss: 0.141282\n",
            "Train Epoch: 2 [29440/60000]\tLoss: 0.081361\n",
            "Train Epoch: 2 [30080/60000]\tLoss: 0.170477\n",
            "Train Epoch: 2 [30720/60000]\tLoss: 0.117913\n",
            "Train Epoch: 2 [31360/60000]\tLoss: 0.129514\n",
            "Train Epoch: 2 [32000/60000]\tLoss: 0.224375\n",
            "Train Epoch: 2 [32640/60000]\tLoss: 0.182673\n",
            "Train Epoch: 2 [33280/60000]\tLoss: 0.077942\n",
            "Train Epoch: 2 [33920/60000]\tLoss: 0.059878\n",
            "Train Epoch: 2 [34560/60000]\tLoss: 0.277831\n",
            "Train Epoch: 2 [35200/60000]\tLoss: 0.110511\n",
            "Train Epoch: 2 [35840/60000]\tLoss: 0.126049\n",
            "Train Epoch: 2 [36480/60000]\tLoss: 0.106600\n",
            "Train Epoch: 2 [37120/60000]\tLoss: 0.154854\n",
            "Train Epoch: 2 [37760/60000]\tLoss: 0.334637\n",
            "Train Epoch: 2 [38400/60000]\tLoss: 0.085272\n",
            "Train Epoch: 2 [39040/60000]\tLoss: 0.051421\n",
            "Train Epoch: 2 [39680/60000]\tLoss: 0.183669\n",
            "Train Epoch: 2 [40320/60000]\tLoss: 0.120200\n",
            "Train Epoch: 2 [40960/60000]\tLoss: 0.205803\n",
            "Train Epoch: 2 [41600/60000]\tLoss: 0.348588\n",
            "Train Epoch: 2 [42240/60000]\tLoss: 0.096636\n",
            "Train Epoch: 2 [42880/60000]\tLoss: 0.192079\n",
            "Train Epoch: 2 [43520/60000]\tLoss: 0.155558\n",
            "Train Epoch: 2 [44160/60000]\tLoss: 0.316716\n",
            "Train Epoch: 2 [44800/60000]\tLoss: 0.224848\n",
            "Train Epoch: 2 [45440/60000]\tLoss: 0.124076\n",
            "Train Epoch: 2 [46080/60000]\tLoss: 0.093030\n",
            "Train Epoch: 2 [46720/60000]\tLoss: 0.147844\n",
            "Train Epoch: 2 [47360/60000]\tLoss: 0.196678\n",
            "Train Epoch: 2 [48000/60000]\tLoss: 0.173005\n",
            "Train Epoch: 2 [48640/60000]\tLoss: 0.145300\n",
            "Train Epoch: 2 [49280/60000]\tLoss: 0.126877\n",
            "Train Epoch: 2 [49920/60000]\tLoss: 0.082948\n",
            "Train Epoch: 2 [50560/60000]\tLoss: 0.080092\n",
            "Train Epoch: 2 [51200/60000]\tLoss: 0.205538\n",
            "Train Epoch: 2 [51840/60000]\tLoss: 0.124809\n",
            "Train Epoch: 2 [52480/60000]\tLoss: 0.212648\n",
            "Train Epoch: 2 [53120/60000]\tLoss: 0.215539\n",
            "Train Epoch: 2 [53760/60000]\tLoss: 0.125934\n",
            "Train Epoch: 2 [54400/60000]\tLoss: 0.170575\n",
            "Train Epoch: 2 [55040/60000]\tLoss: 0.093295\n",
            "Train Epoch: 2 [55680/60000]\tLoss: 0.187254\n",
            "Train Epoch: 2 [56320/60000]\tLoss: 0.116526\n",
            "Train Epoch: 2 [56960/60000]\tLoss: 0.113200\n",
            "Train Epoch: 2 [57600/60000]\tLoss: 0.082517\n",
            "Train Epoch: 2 [58240/60000]\tLoss: 0.155096\n",
            "Train Epoch: 2 [58880/60000]\tLoss: 0.217630\n",
            "Train Epoch: 2 [59520/60000]\tLoss: 0.143521\n",
            "\n",
            "Test set: Avg. loss: 0.0802, Accuracy: 9747/10000 (97%)\n",
            "\n",
            "Train Epoch: 3 [0/60000]\tLoss: 0.107738\n",
            "Train Epoch: 3 [640/60000]\tLoss: 0.109628\n",
            "Train Epoch: 3 [1280/60000]\tLoss: 0.054302\n",
            "Train Epoch: 3 [1920/60000]\tLoss: 0.234751\n",
            "Train Epoch: 3 [2560/60000]\tLoss: 0.047619\n",
            "Train Epoch: 3 [3200/60000]\tLoss: 0.225534\n",
            "Train Epoch: 3 [3840/60000]\tLoss: 0.106177\n",
            "Train Epoch: 3 [4480/60000]\tLoss: 0.085967\n",
            "Train Epoch: 3 [5120/60000]\tLoss: 0.040795\n",
            "Train Epoch: 3 [5760/60000]\tLoss: 0.055154\n",
            "Train Epoch: 3 [6400/60000]\tLoss: 0.118108\n",
            "Train Epoch: 3 [7040/60000]\tLoss: 0.212679\n",
            "Train Epoch: 3 [7680/60000]\tLoss: 0.132433\n",
            "Train Epoch: 3 [8320/60000]\tLoss: 0.249080\n",
            "Train Epoch: 3 [8960/60000]\tLoss: 0.213198\n",
            "Train Epoch: 3 [9600/60000]\tLoss: 0.195256\n",
            "Train Epoch: 3 [10240/60000]\tLoss: 0.073806\n",
            "Train Epoch: 3 [10880/60000]\tLoss: 0.094319\n",
            "Train Epoch: 3 [11520/60000]\tLoss: 0.092994\n",
            "Train Epoch: 3 [12160/60000]\tLoss: 0.417807\n",
            "Train Epoch: 3 [12800/60000]\tLoss: 0.101846\n",
            "Train Epoch: 3 [13440/60000]\tLoss: 0.145041\n",
            "Train Epoch: 3 [14080/60000]\tLoss: 0.376727\n",
            "Train Epoch: 3 [14720/60000]\tLoss: 0.103236\n",
            "Train Epoch: 3 [15360/60000]\tLoss: 0.178892\n",
            "Train Epoch: 3 [16000/60000]\tLoss: 0.146229\n",
            "Train Epoch: 3 [16640/60000]\tLoss: 0.342687\n",
            "Train Epoch: 3 [17280/60000]\tLoss: 0.205253\n",
            "Train Epoch: 3 [17920/60000]\tLoss: 0.077462\n",
            "Train Epoch: 3 [18560/60000]\tLoss: 0.052767\n",
            "Train Epoch: 3 [19200/60000]\tLoss: 0.155590\n",
            "Train Epoch: 3 [19840/60000]\tLoss: 0.142467\n",
            "Train Epoch: 3 [20480/60000]\tLoss: 0.092546\n",
            "Train Epoch: 3 [21120/60000]\tLoss: 0.133339\n",
            "Train Epoch: 3 [21760/60000]\tLoss: 0.148046\n",
            "Train Epoch: 3 [22400/60000]\tLoss: 0.245059\n",
            "Train Epoch: 3 [23040/60000]\tLoss: 0.144090\n",
            "Train Epoch: 3 [23680/60000]\tLoss: 0.076386\n",
            "Train Epoch: 3 [24320/60000]\tLoss: 0.130511\n",
            "Train Epoch: 3 [24960/60000]\tLoss: 0.174031\n",
            "Train Epoch: 3 [25600/60000]\tLoss: 0.075662\n",
            "Train Epoch: 3 [26240/60000]\tLoss: 0.076777\n",
            "Train Epoch: 3 [26880/60000]\tLoss: 0.176233\n",
            "Train Epoch: 3 [27520/60000]\tLoss: 0.191679\n",
            "Train Epoch: 3 [28160/60000]\tLoss: 0.164922\n",
            "Train Epoch: 3 [28800/60000]\tLoss: 0.185207\n",
            "Train Epoch: 3 [29440/60000]\tLoss: 0.170554\n",
            "Train Epoch: 3 [30080/60000]\tLoss: 0.161413\n",
            "Train Epoch: 3 [30720/60000]\tLoss: 0.109375\n",
            "Train Epoch: 3 [31360/60000]\tLoss: 0.142244\n",
            "Train Epoch: 3 [32000/60000]\tLoss: 0.173918\n",
            "Train Epoch: 3 [32640/60000]\tLoss: 0.213373\n",
            "Train Epoch: 3 [33280/60000]\tLoss: 0.224793\n",
            "Train Epoch: 3 [33920/60000]\tLoss: 0.230174\n",
            "Train Epoch: 3 [34560/60000]\tLoss: 0.399897\n",
            "Train Epoch: 3 [35200/60000]\tLoss: 0.145908\n",
            "Train Epoch: 3 [35840/60000]\tLoss: 0.071398\n",
            "Train Epoch: 3 [36480/60000]\tLoss: 0.047448\n",
            "Train Epoch: 3 [37120/60000]\tLoss: 0.170278\n",
            "Train Epoch: 3 [37760/60000]\tLoss: 0.069199\n",
            "Train Epoch: 3 [38400/60000]\tLoss: 0.055836\n",
            "Train Epoch: 3 [39040/60000]\tLoss: 0.143059\n",
            "Train Epoch: 3 [39680/60000]\tLoss: 0.202787\n",
            "Train Epoch: 3 [40320/60000]\tLoss: 0.104899\n",
            "Train Epoch: 3 [40960/60000]\tLoss: 0.078996\n",
            "Train Epoch: 3 [41600/60000]\tLoss: 0.201252\n",
            "Train Epoch: 3 [42240/60000]\tLoss: 0.108974\n",
            "Train Epoch: 3 [42880/60000]\tLoss: 0.117761\n",
            "Train Epoch: 3 [43520/60000]\tLoss: 0.091715\n",
            "Train Epoch: 3 [44160/60000]\tLoss: 0.129249\n",
            "Train Epoch: 3 [44800/60000]\tLoss: 0.091265\n",
            "Train Epoch: 3 [45440/60000]\tLoss: 0.147398\n",
            "Train Epoch: 3 [46080/60000]\tLoss: 0.166447\n",
            "Train Epoch: 3 [46720/60000]\tLoss: 0.104164\n",
            "Train Epoch: 3 [47360/60000]\tLoss: 0.049309\n",
            "Train Epoch: 3 [48000/60000]\tLoss: 0.220968\n",
            "Train Epoch: 3 [48640/60000]\tLoss: 0.066155\n",
            "Train Epoch: 3 [49280/60000]\tLoss: 0.138320\n",
            "Train Epoch: 3 [49920/60000]\tLoss: 0.093613\n",
            "Train Epoch: 3 [50560/60000]\tLoss: 0.220075\n",
            "Train Epoch: 3 [51200/60000]\tLoss: 0.186529\n",
            "Train Epoch: 3 [51840/60000]\tLoss: 0.107430\n",
            "Train Epoch: 3 [52480/60000]\tLoss: 0.056627\n",
            "Train Epoch: 3 [53120/60000]\tLoss: 0.174723\n",
            "Train Epoch: 3 [53760/60000]\tLoss: 0.084924\n",
            "Train Epoch: 3 [54400/60000]\tLoss: 0.128019\n",
            "Train Epoch: 3 [55040/60000]\tLoss: 0.101029\n",
            "Train Epoch: 3 [55680/60000]\tLoss: 0.136039\n",
            "Train Epoch: 3 [56320/60000]\tLoss: 0.199376\n",
            "Train Epoch: 3 [56960/60000]\tLoss: 0.123431\n",
            "Train Epoch: 3 [57600/60000]\tLoss: 0.162066\n",
            "Train Epoch: 3 [58240/60000]\tLoss: 0.131784\n",
            "Train Epoch: 3 [58880/60000]\tLoss: 0.130247\n",
            "Train Epoch: 3 [59520/60000]\tLoss: 0.213528\n",
            "\n",
            "Test set: Avg. loss: 0.0684, Accuracy: 9779/10000 (98%)\n",
            "\n"
          ]
        }
      ]
    },
    {
      "cell_type": "code",
      "source": [
        "# Run network on data we got before and show predictions\n",
        "output = model(example_data)\n",
        "\n",
        "fig = plt.figure()\n",
        "for i in range(10):\n",
        "  plt.subplot(5,5,i+1)\n",
        "  plt.tight_layout()\n",
        "  plt.imshow(example_data[i][0], cmap='gray', interpolation='none')\n",
        "  plt.title(\"Prediction: {}\".format(\n",
        "    output.data.max(1, keepdim=True)[1][i].item()))\n",
        "  plt.xticks([])\n",
        "  plt.yticks([])\n",
        "plt.show()"
      ],
      "metadata": {
        "id": "o7fRUAy9Se1B",
        "outputId": "4bd08da2-70cf-4084-eb29-960669484dd5",
        "colab": {
          "base_uri": "https://localhost:8080/",
          "height": 207
        }
      },
      "execution_count": 45,
      "outputs": [
        {
          "output_type": "display_data",
          "data": {
            "text/plain": [
              "<Figure size 640x480 with 10 Axes>"
            ],
            "image/png": "[encoded data removed]"
          },
          "metadata": {}
        }
      ]
    },
    {
      "cell_type": "code",
      "source": [],
      "metadata": {
        "id": "OOOO6Zc6Z1j2"
      },
      "execution_count": 37,
      "outputs": []
    }
  ]
}