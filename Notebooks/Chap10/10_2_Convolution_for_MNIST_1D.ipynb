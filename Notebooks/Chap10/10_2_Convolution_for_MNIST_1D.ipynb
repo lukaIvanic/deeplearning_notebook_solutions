{
  "nbformat": 4,
  "nbformat_minor": 0,
  "metadata": {
    "colab": {
      "provenance": [],
      "include_colab_link": true
    },
    "kernelspec": {
      "name": "python3",
      "display_name": "Python 3"
    },
    "language_info": {
      "name": "python"
    }
  },
  "cells": [
    {
      "cell_type": "markdown",
      "metadata": {
        "id": "view-in-github",
        "colab_type": "text"
      },
      "source": [
        "<a href=\"https://colab.research.google.com/github/lukaIvanic/deeplearning_notebook_solutions/blob/main/Notebooks/Chap10/10_2_Convolution_for_MNIST_1D.ipynb\" target=\"_parent\"><img src=\"https://colab.research.google.com/assets/colab-badge.svg\" alt=\"Open In Colab\"/></a>"
      ]
    },
    {
      "cell_type": "markdown",
      "source": [
        "# **Notebook 10.2: Convolution for MNIST-1D**\n",
        "\n",
        "This notebook investigates a 1D convolutional network for MNIST-1D as in figure 10.7 and 10.8a.\n",
        "\n",
        "Work through the cells below, running each cell in turn. In various places you will see the words \"TODO\". Follow the instructions at these places and make predictions about what is going to happen or write code to complete the functions.\n",
        "\n",
        "Contact me at udlbookmail@gmail.com if you find any mistakes or have any suggestions.\n",
        "\n"
      ],
      "metadata": {
        "id": "t9vk9Elugvmi"
      }
    },
    {
      "cell_type": "code",
      "source": [
        "# Run this if you're in a Colab to install MNIST 1D repository\n",
        "!pip install git+https://github.com/greydanus/mnist1d"
      ],
      "metadata": {
        "id": "D5yLObtZCi9J",
        "outputId": "07763780-7b28-4bb4-fe65-d74b515872a5",
        "colab": {
          "base_uri": "https://localhost:8080/"
        }
      },
      "execution_count": 1,
      "outputs": [
        {
          "output_type": "stream",
          "name": "stdout",
          "text": [
            "Collecting git+https://github.com/greydanus/mnist1d\n",
            "  Cloning https://github.com/greydanus/mnist1d to /tmp/pip-req-build-71pwv6it\n",
            "  Running command git clone --filter=blob:none --quiet https://github.com/greydanus/mnist1d /tmp/pip-req-build-71pwv6it\n",
            "  Resolved https://github.com/greydanus/mnist1d to commit 7878d96082abd200c546a07a4101fa90b30fdf7e\n",
            "  Installing build dependencies ... \u001b[?25l\u001b[?25hdone\n",
            "  Getting requirements to build wheel ... \u001b[?25l\u001b[?25hdone\n",
            "  Preparing metadata (pyproject.toml) ... \u001b[?25l\u001b[?25hdone\n",
            "Requirement already satisfied: requests in /usr/local/lib/python3.11/dist-packages (from mnist1d==0.0.2.post16) (2.32.3)\n",
            "Requirement already satisfied: numpy in /usr/local/lib/python3.11/dist-packages (from mnist1d==0.0.2.post16) (2.0.2)\n",
            "Requirement already satisfied: matplotlib in /usr/local/lib/python3.11/dist-packages (from mnist1d==0.0.2.post16) (3.10.0)\n",
            "Requirement already satisfied: scipy in /usr/local/lib/python3.11/dist-packages (from mnist1d==0.0.2.post16) (1.14.1)\n",
            "Requirement already satisfied: contourpy>=1.0.1 in /usr/local/lib/python3.11/dist-packages (from matplotlib->mnist1d==0.0.2.post16) (1.3.1)\n",
            "Requirement already satisfied: cycler>=0.10 in /usr/local/lib/python3.11/dist-packages (from matplotlib->mnist1d==0.0.2.post16) (0.12.1)\n",
            "Requirement already satisfied: fonttools>=4.22.0 in /usr/local/lib/python3.11/dist-packages (from matplotlib->mnist1d==0.0.2.post16) (4.56.0)\n",
            "Requirement already satisfied: kiwisolver>=1.3.1 in /usr/local/lib/python3.11/dist-packages (from matplotlib->mnist1d==0.0.2.post16) (1.4.8)\n",
            "Requirement already satisfied: packaging>=20.0 in /usr/local/lib/python3.11/dist-packages (from matplotlib->mnist1d==0.0.2.post16) (24.2)\n",
            "Requirement already satisfied: pillow>=8 in /usr/local/lib/python3.11/dist-packages (from matplotlib->mnist1d==0.0.2.post16) (11.1.0)\n",
            "Requirement already satisfied: pyparsing>=2.3.1 in /usr/local/lib/python3.11/dist-packages (from matplotlib->mnist1d==0.0.2.post16) (3.2.1)\n",
            "Requirement already satisfied: python-dateutil>=2.7 in /usr/local/lib/python3.11/dist-packages (from matplotlib->mnist1d==0.0.2.post16) (2.8.2)\n",
            "Requirement already satisfied: charset-normalizer<4,>=2 in /usr/local/lib/python3.11/dist-packages (from requests->mnist1d==0.0.2.post16) (3.4.1)\n",
            "Requirement already satisfied: idna<4,>=2.5 in /usr/local/lib/python3.11/dist-packages (from requests->mnist1d==0.0.2.post16) (3.10)\n",
            "Requirement already satisfied: urllib3<3,>=1.21.1 in /usr/local/lib/python3.11/dist-packages (from requests->mnist1d==0.0.2.post16) (2.3.0)\n",
            "Requirement already satisfied: certifi>=2017.4.17 in /usr/local/lib/python3.11/dist-packages (from requests->mnist1d==0.0.2.post16) (2025.1.31)\n",
            "Requirement already satisfied: six>=1.5 in /usr/local/lib/python3.11/dist-packages (from python-dateutil>=2.7->matplotlib->mnist1d==0.0.2.post16) (1.17.0)\n",
            "Building wheels for collected packages: mnist1d\n",
            "  Building wheel for mnist1d (pyproject.toml) ... \u001b[?25l\u001b[?25hdone\n",
            "  Created wheel for mnist1d: filename=mnist1d-0.0.2.post16-py3-none-any.whl size=14664 sha256=cb43311a7eac82a45e2751f5cb65037a00c5351302fd4203a80bffe781a1fead\n",
            "  Stored in directory: /tmp/pip-ephem-wheel-cache-oondm6px/wheels/d6/38/42/3d2112bc7d915f6195254ac85eb761d922d1b18f52817aa8e2\n",
            "Successfully built mnist1d\n",
            "Installing collected packages: mnist1d\n",
            "Successfully installed mnist1d-0.0.2.post16\n"
          ]
        }
      ]
    },
    {
      "cell_type": "code",
      "source": [
        "import numpy as np\n",
        "import os\n",
        "import torch, torch.nn as nn\n",
        "from torch.utils.data import TensorDataset, DataLoader\n",
        "from torch.optim.lr_scheduler import StepLR\n",
        "import matplotlib.pyplot as plt\n",
        "import mnist1d\n",
        "import random"
      ],
      "metadata": {
        "id": "YrXWAH7sUWvU"
      },
      "execution_count": 2,
      "outputs": []
    },
    {
      "cell_type": "code",
      "source": [
        "args = mnist1d.data.get_dataset_args()\n",
        "data = mnist1d.data.get_dataset(args, path='./mnist1d_data.pkl', download=False, regenerate=False)\n",
        "print(data['x'][:10])\n",
        "print(data['y'][:10])\n",
        "\n",
        "# The training and test input and outputs are in\n",
        "# data['x'], data['y'], data['x_test'], and data['y_test']\n",
        "print(\"Examples in training set: {}\".format(len(data['y'])))\n",
        "print(\"Examples in test set: {}\".format(len(data['y_test'])))\n",
        "print(\"Length of each example: {}\".format(data['x'].shape[-1]))"
      ],
      "metadata": {
        "id": "twI72ZCrCt5z"
      },
      "execution_count": null,
      "outputs": []
    },
    {
      "cell_type": "code",
      "source": [
        "# Load in the data\n",
        "train_data_x = data['x'].transpose()\n",
        "train_data_y = data['y']\n",
        "val_data_x = data['x_test'].transpose()\n",
        "val_data_y = data['y_test']\n",
        "# Print out sizes\n",
        "print(\"Train data: %d examples (columns), each of which has %d dimensions (rows)\"%((train_data_x.shape[1],train_data_x.shape[0])))\n",
        "print(\"Validation data: %d examples (columns), each of which has %d dimensions (rows)\"%((val_data_x.shape[1],val_data_x.shape[0])))"
      ],
      "metadata": {
        "id": "8bKADvLHbiV5",
        "outputId": "91d34517-7687-4a0d-ae80-4c24df5f9b35",
        "colab": {
          "base_uri": "https://localhost:8080/"
        }
      },
      "execution_count": 6,
      "outputs": [
        {
          "output_type": "stream",
          "name": "stdout",
          "text": [
            "Train data: 4000 examples (columns), each of which has 40 dimensions (rows)\n",
            "Validation data: 1000 examples (columns), each of which has 40 dimensions (rows)\n"
          ]
        }
      ]
    },
    {
      "cell_type": "markdown",
      "source": [
        "Define the network"
      ],
      "metadata": {
        "id": "_sFvRDGrl4qe"
      }
    },
    {
      "cell_type": "code",
      "source": [
        "# There are 40 input dimensions and 10 output dimensions for this data\n",
        "# The inputs correspond to the 40 offsets in the MNIST1D template.\n",
        "D_i = 40\n",
        "# The outputs correspond to the 10 digits\n",
        "D_o = 10\n",
        "\n",
        "\n",
        "# TODO Create a model with the following layers\n",
        "# 1. Convolutional layer, (input=length 40 and 1 channel, kernel size 3, stride 2, padding=\"valid\", 15 output channels )\n",
        "# 2. ReLU\n",
        "# 3. Convolutional layer, (input=length 19 and 15 channels, kernel size 3, stride 2, padding=\"valid\", 15 output channels )\n",
        "# 4. ReLU\n",
        "# 5. Convolutional layer, (input=length 9 and 15 channels, kernel size 3, stride 2, padding=\"valid\", 15 output channels)\n",
        "# 6. ReLU\n",
        "# 7. Flatten (converts 4x15) to length 60\n",
        "# 8. Linear layer (input size = 60, output size = 10)\n",
        "# References:\n",
        "# https://pytorch.org/docs/1.13/generated/torch.nn.Conv1d.html?highlight=conv1d#torch.nn.Conv1d\n",
        "# https://pytorch.org/docs/stable/generated/torch.nn.Flatten.html\n",
        "# https://pytorch.org/docs/1.13/generated/torch.nn.Linear.html?highlight=linear#torch.nn.Linear\n",
        "\n",
        "# NOTE THAT THE CONVOLUTIONAL LAYERS NEED TO TAKE THE NUMBER OF INPUT CHANNELS AS A PARAMETER\n",
        "# AND NOT THE INPUT SIZE.\n",
        "channels = 50\n",
        "\n",
        "# Replace the following function:\n",
        "model = nn.Sequential(\n",
        "nn.Conv1d(in_channels=1, out_channels=channels, kernel_size=3, stride=2, dilation=1, padding=\"valid\"),\n",
        "nn.ReLU(),\n",
        "nn.Conv1d(in_channels=channels, out_channels=channels, kernel_size=3, stride=2, dilation=1, padding=\"valid\"),\n",
        "nn.ReLU(),\n",
        "nn.Conv1d(in_channels=channels, out_channels=channels, kernel_size=3, stride=2, dilation=1, padding=\"valid\"),\n",
        "nn.ReLU(),\n",
        "nn.Conv1d(in_channels=channels, out_channels=channels, kernel_size=3, stride=2, dilation=1, padding=\"valid\"),\n",
        "nn.ReLU(),\n",
        "nn.Flatten(),\n",
        "nn.Linear(in_features=50, out_features=10))\n",
        "\n",
        "\n",
        "\n"
      ],
      "metadata": {
        "id": "FslroPJJffrh"
      },
      "execution_count": 19,
      "outputs": []
    },
    {
      "cell_type": "code",
      "source": [
        "# He initialization of weights\n",
        "def weights_init(layer_in):\n",
        "  if isinstance(layer_in, nn.Linear):\n",
        "    nn.init.kaiming_uniform_(layer_in.weight)\n",
        "    layer_in.bias.data.fill_(0.0)"
      ],
      "metadata": {
        "id": "YgLaex1pfhqz"
      },
      "execution_count": 20,
      "outputs": []
    },
    {
      "cell_type": "code",
      "source": [
        "# choose cross entropy loss function (equation 5.24 in the loss notes)\n",
        "loss_function = nn.CrossEntropyLoss()\n",
        "# construct SGD optimizer and initialize learning rate and momentum\n",
        "optimizer = torch.optim.SGD(model.parameters(), lr = 0.05, momentum=0.9)\n",
        "# object that decreases learning rate by half every 20 epochs\n",
        "scheduler = StepLR(optimizer, step_size=20, gamma=0.5)\n",
        "# create 100 dummy data points and store in data loader class\n",
        "x_train = torch.tensor(train_data_x.transpose().astype('float32'))\n",
        "y_train = torch.tensor(train_data_y.astype('long')).long()\n",
        "x_val= torch.tensor(val_data_x.transpose().astype('float32'))\n",
        "y_val = torch.tensor(val_data_y.astype('long')).long()\n",
        "\n",
        "# load the data into a class that creates the batches\n",
        "data_loader = DataLoader(TensorDataset(x_train,y_train), batch_size=100, shuffle=True, worker_init_fn=np.random.seed(1))\n",
        "\n",
        "# Initialize model weights\n",
        "model.apply(weights_init)\n",
        "\n",
        "# loop over the dataset n_epoch times\n",
        "n_epoch = 100\n",
        "# store the loss and the % correct at each epoch\n",
        "losses_train = np.zeros((n_epoch))\n",
        "errors_train = np.zeros((n_epoch))\n",
        "losses_val = np.zeros((n_epoch))\n",
        "errors_val = np.zeros((n_epoch))\n",
        "\n",
        "for epoch in range(n_epoch):\n",
        "  # loop over batches\n",
        "  for i, data in enumerate(data_loader):\n",
        "    # retrieve inputs and labels for this batch\n",
        "    x_batch, y_batch = data\n",
        "    # zero the parameter gradients\n",
        "    optimizer.zero_grad()\n",
        "    # forward pass -- calculate model output\n",
        "    pred = model(x_batch[:,None,:])\n",
        "    # compute the loss\n",
        "    loss = loss_function(pred, y_batch)\n",
        "    # backward pass\n",
        "    loss.backward()\n",
        "    # SGD update\n",
        "    optimizer.step()\n",
        "\n",
        "  # Run whole dataset to get statistics -- normally wouldn't do this\n",
        "  pred_train = model(x_train[:,None,:])\n",
        "  pred_val = model(x_val[:,None,:])\n",
        "  _, predicted_train_class = torch.max(pred_train.data, 1)\n",
        "  _, predicted_val_class = torch.max(pred_val.data, 1)\n",
        "  errors_train[epoch] = 100 - 100 * (predicted_train_class == y_train).float().sum() / len(y_train)\n",
        "  errors_val[epoch]= 100 - 100 * (predicted_val_class == y_val).float().sum() / len(y_val)\n",
        "  losses_train[epoch] = loss_function(pred_train, y_train).item()\n",
        "  losses_val[epoch]= loss_function(pred_val, y_val).item()\n",
        "  print(f'Epoch {epoch:5d}, train loss {losses_train[epoch]:.6f}, train error {errors_train[epoch]:3.2f},  val loss {losses_val[epoch]:.6f}, percent error {errors_val[epoch]:3.2f}')\n",
        "\n",
        "  # tell scheduler to consider updating learning rate\n",
        "  scheduler.step()\n",
        "\n",
        "# Plot the results\n",
        "fig, ax = plt.subplots()\n",
        "ax.plot(errors_train,'r-',label='train')\n",
        "ax.plot(errors_val,'b-',label='validation')\n",
        "ax.set_ylim(0,100); ax.set_xlim(0,n_epoch)\n",
        "ax.set_xlabel('Epoch'); ax.set_ylabel('Error')\n",
        "ax.set_title('Part I: Validation Result %3.2f'%(errors_val[-1]))\n",
        "ax.legend()\n",
        "plt.show()"
      ],
      "metadata": {
        "id": "NYw8I_3mmX5c",
        "outputId": "28b9ef7e-57ef-4c18-fabd-c8f06c8889ad",
        "colab": {
          "base_uri": "https://localhost:8080/",
          "height": 1000
        }
      },
      "execution_count": 21,
      "outputs": [
        {
          "output_type": "stream",
          "name": "stdout",
          "text": [
            "Epoch     0, train loss 1.768037, train error 69.65,  val loss 1.806854, percent error 71.10\n",
            "Epoch     1, train loss 1.527236, train error 63.42,  val loss 1.531281, percent error 64.40\n",
            "Epoch     2, train loss 1.216012, train error 51.20,  val loss 1.218928, percent error 52.70\n",
            "Epoch     3, train loss 1.174721, train error 47.85,  val loss 1.195505, percent error 48.90\n",
            "Epoch     4, train loss 1.054698, train error 45.38,  val loss 1.115712, percent error 48.40\n",
            "Epoch     5, train loss 0.990735, train error 40.75,  val loss 1.045532, percent error 43.90\n",
            "Epoch     6, train loss 0.854022, train error 36.47,  val loss 0.903061, percent error 39.00\n",
            "Epoch     7, train loss 0.822660, train error 33.10,  val loss 0.906978, percent error 36.30\n",
            "Epoch     8, train loss 0.579306, train error 22.55,  val loss 0.654257, percent error 26.30\n",
            "Epoch     9, train loss 0.539491, train error 21.45,  val loss 0.632180, percent error 25.30\n",
            "Epoch    10, train loss 0.446271, train error 16.07,  val loss 0.546516, percent error 21.70\n",
            "Epoch    11, train loss 0.362930, train error 14.88,  val loss 0.480973, percent error 18.80\n",
            "Epoch    12, train loss 0.302239, train error 11.60,  val loss 0.459537, percent error 16.00\n",
            "Epoch    13, train loss 0.266850, train error 11.53,  val loss 0.448424, percent error 16.10\n",
            "Epoch    14, train loss 0.246622, train error 9.72,  val loss 0.454170, percent error 15.60\n",
            "Epoch    15, train loss 0.153996, train error 5.25,  val loss 0.305824, percent error 10.10\n",
            "Epoch    16, train loss 0.122565, train error 4.38,  val loss 0.332384, percent error 10.80\n",
            "Epoch    17, train loss 0.140677, train error 5.30,  val loss 0.362171, percent error 11.60\n",
            "Epoch    18, train loss 0.104164, train error 3.40,  val loss 0.276651, percent error 9.30\n",
            "Epoch    19, train loss 0.097354, train error 3.57,  val loss 0.295601, percent error 9.00\n",
            "Epoch    20, train loss 0.055106, train error 1.57,  val loss 0.248264, percent error 7.60\n",
            "Epoch    21, train loss 0.041014, train error 1.05,  val loss 0.261316, percent error 8.30\n",
            "Epoch    22, train loss 0.030640, train error 0.55,  val loss 0.253467, percent error 8.10\n",
            "Epoch    23, train loss 0.033211, train error 0.88,  val loss 0.267980, percent error 8.10\n",
            "Epoch    24, train loss 0.056926, train error 2.10,  val loss 0.284934, percent error 8.30\n",
            "Epoch    25, train loss 0.022481, train error 0.35,  val loss 0.262095, percent error 8.00\n",
            "Epoch    26, train loss 0.019495, train error 0.30,  val loss 0.257159, percent error 7.50\n",
            "Epoch    27, train loss 0.015483, train error 0.28,  val loss 0.264784, percent error 8.00\n",
            "Epoch    28, train loss 0.013350, train error 0.20,  val loss 0.264595, percent error 7.40\n",
            "Epoch    29, train loss 0.011439, train error 0.10,  val loss 0.267296, percent error 7.80\n",
            "Epoch    30, train loss 0.021226, train error 0.50,  val loss 0.308577, percent error 8.30\n",
            "Epoch    31, train loss 0.056755, train error 2.10,  val loss 0.368844, percent error 9.30\n",
            "Epoch    32, train loss 0.022510, train error 0.55,  val loss 0.278958, percent error 8.00\n",
            "Epoch    33, train loss 0.015539, train error 0.35,  val loss 0.282223, percent error 7.70\n",
            "Epoch    34, train loss 0.007831, train error 0.03,  val loss 0.278833, percent error 7.70\n",
            "Epoch    35, train loss 0.007465, train error 0.12,  val loss 0.296899, percent error 7.80\n",
            "Epoch    36, train loss 0.005290, train error 0.00,  val loss 0.294320, percent error 7.80\n",
            "Epoch    37, train loss 0.005158, train error 0.03,  val loss 0.304191, percent error 8.00\n",
            "Epoch    38, train loss 0.005205, train error 0.03,  val loss 0.302309, percent error 7.80\n",
            "Epoch    39, train loss 0.004439, train error 0.00,  val loss 0.302907, percent error 7.30\n",
            "Epoch    40, train loss 0.003402, train error 0.00,  val loss 0.303889, percent error 7.70\n",
            "Epoch    41, train loss 0.003487, train error 0.00,  val loss 0.310380, percent error 7.70\n",
            "Epoch    42, train loss 0.003097, train error 0.00,  val loss 0.308259, percent error 7.60\n",
            "Epoch    43, train loss 0.003014, train error 0.00,  val loss 0.313175, percent error 7.60\n",
            "Epoch    44, train loss 0.002866, train error 0.00,  val loss 0.312004, percent error 7.90\n",
            "Epoch    45, train loss 0.002780, train error 0.00,  val loss 0.319010, percent error 7.70\n",
            "Epoch    46, train loss 0.002817, train error 0.00,  val loss 0.319422, percent error 7.60\n",
            "Epoch    47, train loss 0.002625, train error 0.00,  val loss 0.315393, percent error 7.70\n",
            "Epoch    48, train loss 0.002545, train error 0.00,  val loss 0.321437, percent error 7.70\n",
            "Epoch    49, train loss 0.002432, train error 0.00,  val loss 0.322687, percent error 7.70\n",
            "Epoch    50, train loss 0.002379, train error 0.00,  val loss 0.321812, percent error 7.80\n",
            "Epoch    51, train loss 0.002336, train error 0.00,  val loss 0.324810, percent error 7.70\n",
            "Epoch    52, train loss 0.002240, train error 0.00,  val loss 0.326101, percent error 7.80\n",
            "Epoch    53, train loss 0.002184, train error 0.00,  val loss 0.328424, percent error 7.70\n",
            "Epoch    54, train loss 0.002131, train error 0.00,  val loss 0.328958, percent error 7.70\n",
            "Epoch    55, train loss 0.002110, train error 0.00,  val loss 0.332441, percent error 7.60\n",
            "Epoch    56, train loss 0.002100, train error 0.00,  val loss 0.332020, percent error 7.70\n",
            "Epoch    57, train loss 0.001992, train error 0.00,  val loss 0.333293, percent error 7.70\n",
            "Epoch    58, train loss 0.001927, train error 0.00,  val loss 0.334123, percent error 7.50\n",
            "Epoch    59, train loss 0.001877, train error 0.00,  val loss 0.335591, percent error 7.70\n",
            "Epoch    60, train loss 0.001859, train error 0.00,  val loss 0.337134, percent error 7.70\n",
            "Epoch    61, train loss 0.001841, train error 0.00,  val loss 0.337168, percent error 7.70\n",
            "Epoch    62, train loss 0.001818, train error 0.00,  val loss 0.337351, percent error 7.80\n",
            "Epoch    63, train loss 0.001797, train error 0.00,  val loss 0.338232, percent error 7.70\n",
            "Epoch    64, train loss 0.001774, train error 0.00,  val loss 0.337826, percent error 7.70\n",
            "Epoch    65, train loss 0.001755, train error 0.00,  val loss 0.339029, percent error 7.70\n",
            "Epoch    66, train loss 0.001738, train error 0.00,  val loss 0.340445, percent error 7.70\n",
            "Epoch    67, train loss 0.001718, train error 0.00,  val loss 0.339749, percent error 7.70\n",
            "Epoch    68, train loss 0.001700, train error 0.00,  val loss 0.340448, percent error 7.70\n",
            "Epoch    69, train loss 0.001684, train error 0.00,  val loss 0.340762, percent error 7.70\n",
            "Epoch    70, train loss 0.001669, train error 0.00,  val loss 0.341693, percent error 7.80\n",
            "Epoch    71, train loss 0.001647, train error 0.00,  val loss 0.341328, percent error 7.70\n",
            "Epoch    72, train loss 0.001629, train error 0.00,  val loss 0.342374, percent error 7.70\n",
            "Epoch    73, train loss 0.001619, train error 0.00,  val loss 0.343048, percent error 7.70\n",
            "Epoch    74, train loss 0.001620, train error 0.00,  val loss 0.344701, percent error 7.70\n",
            "Epoch    75, train loss 0.001585, train error 0.00,  val loss 0.344559, percent error 7.70\n",
            "Epoch    76, train loss 0.001568, train error 0.00,  val loss 0.344881, percent error 7.60\n",
            "Epoch    77, train loss 0.001550, train error 0.00,  val loss 0.345040, percent error 7.70\n",
            "Epoch    78, train loss 0.001559, train error 0.00,  val loss 0.346233, percent error 7.80\n",
            "Epoch    79, train loss 0.001520, train error 0.00,  val loss 0.346478, percent error 7.70\n",
            "Epoch    80, train loss 0.001513, train error 0.00,  val loss 0.346765, percent error 7.70\n",
            "Epoch    81, train loss 0.001505, train error 0.00,  val loss 0.346860, percent error 7.70\n",
            "Epoch    82, train loss 0.001498, train error 0.00,  val loss 0.347173, percent error 7.70\n",
            "Epoch    83, train loss 0.001491, train error 0.00,  val loss 0.347471, percent error 7.70\n",
            "Epoch    84, train loss 0.001484, train error 0.00,  val loss 0.347364, percent error 7.70\n",
            "Epoch    85, train loss 0.001477, train error 0.00,  val loss 0.347899, percent error 7.70\n",
            "Epoch    86, train loss 0.001470, train error 0.00,  val loss 0.348052, percent error 7.70\n",
            "Epoch    87, train loss 0.001464, train error 0.00,  val loss 0.348051, percent error 7.70\n",
            "Epoch    88, train loss 0.001456, train error 0.00,  val loss 0.348398, percent error 7.70\n",
            "Epoch    89, train loss 0.001450, train error 0.00,  val loss 0.348371, percent error 7.70\n",
            "Epoch    90, train loss 0.001443, train error 0.00,  val loss 0.349336, percent error 7.70\n",
            "Epoch    91, train loss 0.001437, train error 0.00,  val loss 0.349154, percent error 7.70\n",
            "Epoch    92, train loss 0.001430, train error 0.00,  val loss 0.349441, percent error 7.70\n",
            "Epoch    93, train loss 0.001423, train error 0.00,  val loss 0.349671, percent error 7.70\n",
            "Epoch    94, train loss 0.001418, train error 0.00,  val loss 0.349937, percent error 7.70\n",
            "Epoch    95, train loss 0.001411, train error 0.00,  val loss 0.350071, percent error 7.70\n",
            "Epoch    96, train loss 0.001406, train error 0.00,  val loss 0.350441, percent error 7.70\n",
            "Epoch    97, train loss 0.001398, train error 0.00,  val loss 0.350315, percent error 7.70\n",
            "Epoch    98, train loss 0.001392, train error 0.00,  val loss 0.350704, percent error 7.70\n",
            "Epoch    99, train loss 0.001387, train error 0.00,  val loss 0.350724, percent error 7.70\n"
          ]
        },
        {
          "output_type": "display_data",
          "data": {
            "text/plain": [
              "<Figure size 640x480 with 1 Axes>"
            ],
            "image/png": "[encoded data removed]"
          },
          "metadata": {}
        }
      ]
    },
    {
      "cell_type": "code",
      "source": [
        "\"\"\"\n",
        "Epoch    97, train loss 0.030160, train error 0.55,  val loss 0.413568, percent error 9.70\n",
        "Epoch    98, train loss 0.030064, train error 0.45,  val loss 0.415436, percent error 9.50\n",
        "Epoch    99, train loss 0.030280, train error 0.50,  val loss 0.413894, percent error 9.30\n",
        "\n",
        "Epoch    97, train loss 0.001398, train error 0.00,  val loss 0.350315, percent error 7.70\n",
        "Epoch    98, train loss 0.001392, train error 0.00,  val loss 0.350704, percent error 7.70\n",
        "Epoch    99, train loss 0.001387, train error 0.00,  val loss 0.350724, percent error 7.70\n",
        "\"\"\""
      ],
      "metadata": {
        "id": "LEd5aJor2B-c",
        "outputId": "c28ad929-14a1-499c-ce8d-79cfd5179590",
        "colab": {
          "base_uri": "https://localhost:8080/",
          "height": 53
        }
      },
      "execution_count": 22,
      "outputs": [
        {
          "output_type": "execute_result",
          "data": {
            "text/plain": [
              "'\\nEpoch    97, train loss 0.030160, train error 0.55,  val loss 0.413568, percent error 9.70\\nEpoch    98, train loss 0.030064, train error 0.45,  val loss 0.415436, percent error 9.50\\nEpoch    99, train loss 0.030280, train error 0.50,  val loss 0.413894, percent error 9.30\\n'"
            ],
            "application/vnd.google.colaboratory.intrinsic+json": {
              "type": "string"
            }
          },
          "metadata": {},
          "execution_count": 22
        }
      ]
    },
    {
      "cell_type": "code",
      "source": [],
      "metadata": {
        "id": "Z1gkMrVs244l"
      },
      "execution_count": null,
      "outputs": []
    }
  ]
}