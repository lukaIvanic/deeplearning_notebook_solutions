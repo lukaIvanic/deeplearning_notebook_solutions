{
  "nbformat": 4,
  "nbformat_minor": 0,
  "metadata": {
    "colab": {
      "provenance": [],
      "include_colab_link": true
    },
    "kernelspec": {
      "name": "python3",
      "display_name": "Python 3"
    },
    "language_info": {
      "name": "python"
    }
  },
  "cells": [
    {
      "cell_type": "markdown",
      "metadata": {
        "id": "view-in-github",
        "colab_type": "text"
      },
      "source": [
        "<a href=\"https://colab.research.google.com/github/lukaIvanic/deeplearning_notebook_solutions/blob/main/Notebooks/Chap11/11_2_Residual_Networks.ipynb\" target=\"_parent\"><img src=\"https://colab.research.google.com/assets/colab-badge.svg\" alt=\"Open In Colab\"/></a>"
      ]
    },
    {
      "cell_type": "markdown",
      "source": [
        "# **Notebook 11.2: Residual Networks**\n",
        "\n",
        "This notebook adapts the networks for MNIST1D to use residual connections.\n",
        "\n",
        "Work through the cells below, running each cell in turn. In various places you will see the words \"TODO\". Follow the instructions at these places and make predictions about what is going to happen or write code to complete the functions.\n",
        "\n",
        "Contact me at udlbookmail@gmail.com if you find any mistakes or have any suggestions.\n",
        "\n"
      ],
      "metadata": {
        "id": "t9vk9Elugvmi"
      }
    },
    {
      "cell_type": "code",
      "source": [
        "# Run this if you're in a Colab to install MNIST 1D repository\n",
        "!pip install git+https://github.com/greydanus/mnist1d"
      ],
      "metadata": {
        "id": "D5yLObtZCi9J",
        "outputId": "8be49766-aaa1-4c4d-be66-a47eee59b06e",
        "colab": {
          "base_uri": "https://localhost:8080/"
        }
      },
      "execution_count": 1,
      "outputs": [
        {
          "output_type": "stream",
          "name": "stdout",
          "text": [
            "Collecting git+https://github.com/greydanus/mnist1d\n",
            "  Cloning https://github.com/greydanus/mnist1d to /tmp/pip-req-build-t1j154ie\n",
            "  Running command git clone --filter=blob:none --quiet https://github.com/greydanus/mnist1d /tmp/pip-req-build-t1j154ie\n",
            "  Resolved https://github.com/greydanus/mnist1d to commit 7878d96082abd200c546a07a4101fa90b30fdf7e\n",
            "  Installing build dependencies ... \u001b[?25l\u001b[?25hdone\n",
            "  Getting requirements to build wheel ... \u001b[?25l\u001b[?25hdone\n",
            "  Preparing metadata (pyproject.toml) ... \u001b[?25l\u001b[?25hdone\n",
            "Requirement already satisfied: requests in /usr/local/lib/python3.11/dist-packages (from mnist1d==0.0.2.post16) (2.32.3)\n",
            "Requirement already satisfied: numpy in /usr/local/lib/python3.11/dist-packages (from mnist1d==0.0.2.post16) (2.0.2)\n",
            "Requirement already satisfied: matplotlib in /usr/local/lib/python3.11/dist-packages (from mnist1d==0.0.2.post16) (3.10.0)\n",
            "Requirement already satisfied: scipy in /usr/local/lib/python3.11/dist-packages (from mnist1d==0.0.2.post16) (1.14.1)\n",
            "Requirement already satisfied: contourpy>=1.0.1 in /usr/local/lib/python3.11/dist-packages (from matplotlib->mnist1d==0.0.2.post16) (1.3.1)\n",
            "Requirement already satisfied: cycler>=0.10 in /usr/local/lib/python3.11/dist-packages (from matplotlib->mnist1d==0.0.2.post16) (0.12.1)\n",
            "Requirement already satisfied: fonttools>=4.22.0 in /usr/local/lib/python3.11/dist-packages (from matplotlib->mnist1d==0.0.2.post16) (4.56.0)\n",
            "Requirement already satisfied: kiwisolver>=1.3.1 in /usr/local/lib/python3.11/dist-packages (from matplotlib->mnist1d==0.0.2.post16) (1.4.8)\n",
            "Requirement already satisfied: packaging>=20.0 in /usr/local/lib/python3.11/dist-packages (from matplotlib->mnist1d==0.0.2.post16) (24.2)\n",
            "Requirement already satisfied: pillow>=8 in /usr/local/lib/python3.11/dist-packages (from matplotlib->mnist1d==0.0.2.post16) (11.1.0)\n",
            "Requirement already satisfied: pyparsing>=2.3.1 in /usr/local/lib/python3.11/dist-packages (from matplotlib->mnist1d==0.0.2.post16) (3.2.1)\n",
            "Requirement already satisfied: python-dateutil>=2.7 in /usr/local/lib/python3.11/dist-packages (from matplotlib->mnist1d==0.0.2.post16) (2.8.2)\n",
            "Requirement already satisfied: charset-normalizer<4,>=2 in /usr/local/lib/python3.11/dist-packages (from requests->mnist1d==0.0.2.post16) (3.4.1)\n",
            "Requirement already satisfied: idna<4,>=2.5 in /usr/local/lib/python3.11/dist-packages (from requests->mnist1d==0.0.2.post16) (3.10)\n",
            "Requirement already satisfied: urllib3<3,>=1.21.1 in /usr/local/lib/python3.11/dist-packages (from requests->mnist1d==0.0.2.post16) (2.3.0)\n",
            "Requirement already satisfied: certifi>=2017.4.17 in /usr/local/lib/python3.11/dist-packages (from requests->mnist1d==0.0.2.post16) (2025.1.31)\n",
            "Requirement already satisfied: six>=1.5 in /usr/local/lib/python3.11/dist-packages (from python-dateutil>=2.7->matplotlib->mnist1d==0.0.2.post16) (1.17.0)\n",
            "Building wheels for collected packages: mnist1d\n",
            "  Building wheel for mnist1d (pyproject.toml) ... \u001b[?25l\u001b[?25hdone\n",
            "  Created wheel for mnist1d: filename=mnist1d-0.0.2.post16-py3-none-any.whl size=14664 sha256=a04593304337410d10723730e504177705d9c2cba983b65a310d5e19c1f39537\n",
            "  Stored in directory: /tmp/pip-ephem-wheel-cache-qjels2sg/wheels/d6/38/42/3d2112bc7d915f6195254ac85eb761d922d1b18f52817aa8e2\n",
            "Successfully built mnist1d\n",
            "Installing collected packages: mnist1d\n",
            "Successfully installed mnist1d-0.0.2.post16\n"
          ]
        }
      ]
    },
    {
      "cell_type": "code",
      "source": [
        "import numpy as np\n",
        "import os\n",
        "import torch, torch.nn as nn\n",
        "from torch.utils.data import TensorDataset, DataLoader\n",
        "from torch.optim.lr_scheduler import StepLR\n",
        "import matplotlib.pyplot as plt\n",
        "import mnist1d\n",
        "import random"
      ],
      "metadata": {
        "id": "YrXWAH7sUWvU"
      },
      "execution_count": 2,
      "outputs": []
    },
    {
      "cell_type": "code",
      "source": [
        "args = mnist1d.data.get_dataset_args()\n",
        "data = mnist1d.data.get_dataset(args, path='./mnist1d_data.pkl', download=False, regenerate=False)\n",
        "\n",
        "# The training and test input and outputs are in\n",
        "# data['x'], data['y'], data['x_test'], and data['y_test']\n",
        "print(\"Examples in training set: {}\".format(len(data['y'])))\n",
        "print(\"Examples in test set: {}\".format(len(data['y_test'])))\n",
        "print(\"Length of each example: {}\".format(data['x'].shape[-1]))"
      ],
      "metadata": {
        "id": "twI72ZCrCt5z",
        "outputId": "d1e8b923-0b75-4d96-dfcf-879140fa48bb",
        "colab": {
          "base_uri": "https://localhost:8080/"
        }
      },
      "execution_count": 3,
      "outputs": [
        {
          "output_type": "stream",
          "name": "stdout",
          "text": [
            "Did or could not load data from ./mnist1d_data.pkl. Rebuilding dataset...\n",
            "Examples in training set: 4000\n",
            "Examples in test set: 1000\n",
            "Length of each example: 40\n"
          ]
        }
      ]
    },
    {
      "cell_type": "code",
      "source": [
        "# Load in the data\n",
        "train_data_x = data['x'].transpose()\n",
        "train_data_y = data['y']\n",
        "val_data_x = data['x_test'].transpose()\n",
        "val_data_y = data['y_test']\n",
        "# Print out sizes\n",
        "print(\"Train data: %d examples (columns), each of which has %d dimensions (rows)\"%((train_data_x.shape[1],train_data_x.shape[0])))\n",
        "print(\"Validation data: %d examples (columns), each of which has %d dimensions (rows)\"%((val_data_x.shape[1],val_data_x.shape[0])))"
      ],
      "metadata": {
        "id": "8bKADvLHbiV5",
        "outputId": "e72d706c-5fa4-47df-98ac-33ecaa41f55a",
        "colab": {
          "base_uri": "https://localhost:8080/"
        }
      },
      "execution_count": 4,
      "outputs": [
        {
          "output_type": "stream",
          "name": "stdout",
          "text": [
            "Train data: 4000 examples (columns), each of which has 40 dimensions (rows)\n",
            "Validation data: 1000 examples (columns), each of which has 40 dimensions (rows)\n"
          ]
        }
      ]
    },
    {
      "cell_type": "markdown",
      "source": [
        "Define the network"
      ],
      "metadata": {
        "id": "_sFvRDGrl4qe"
      }
    },
    {
      "cell_type": "code",
      "source": [
        "# There are 40 input dimensions and 10 output dimensions for this data\n",
        "# The inputs correspond to the 40 offsets in the MNIST1D template.\n",
        "D_i = 40\n",
        "# The outputs correspond to the 10 digits\n",
        "D_o = 10\n",
        "\n",
        "\n",
        "# We will adapt this model to have residual connections around the linear layers\n",
        "# This is the same model we used in practical 8.1, but we can't use the sequential\n",
        "# class for residual networks (which aren't strictly sequential).  Hence, I've rewritten\n",
        "# it as a model that inherits from a base class\n",
        "\n",
        "class ResidualNetwork(torch.nn.Module):\n",
        "  def __init__(self, input_size, output_size, hidden_size=100):\n",
        "    super(ResidualNetwork, self).__init__()\n",
        "    self.linear1 = nn.Linear(input_size, hidden_size)\n",
        "    self.linear2 = nn.Linear(hidden_size, hidden_size)\n",
        "    self.linear3 = nn.Linear(hidden_size, hidden_size)\n",
        "    self.linear4 = nn.Linear(hidden_size, output_size)\n",
        "    print(\"Initialized MLPBase model with {} parameters\".format(self.count_params()))\n",
        "\n",
        "  def count_params(self):\n",
        "    return sum([p.view(-1).shape[0] for p in self.parameters()])\n",
        "\n",
        "# TODO -- Add residual connections to this model\n",
        "# The order of operations within each block should similar to figure 11.5b\n",
        "# ie., linear1 first, ReLU+linear2 in first residual block, ReLU+linear3 in second residual block), linear4 at end\n",
        "# Replace this function\n",
        "  def forward(self, x):\n",
        "    h1 = self.linear1(x)\n",
        "    h2 = h1.relu() + self.linear2(h1)\n",
        "    h3 = h2.relu() + self.linear3(h2)\n",
        "    return self.linear4(h3)\n"
      ],
      "metadata": {
        "id": "FslroPJJffrh"
      },
      "execution_count": 16,
      "outputs": []
    },
    {
      "cell_type": "code",
      "source": [
        "# He initialization of weights\n",
        "def weights_init(layer_in):\n",
        "  if isinstance(layer_in, nn.Linear):\n",
        "    nn.init.kaiming_uniform_(layer_in.weight)\n",
        "    layer_in.bias.data.fill_(0.0)"
      ],
      "metadata": {
        "id": "YgLaex1pfhqz"
      },
      "execution_count": 17,
      "outputs": []
    },
    {
      "cell_type": "code",
      "source": [
        "#Define the model\n",
        "model = ResidualNetwork(40, 10)\n",
        "\n",
        "# choose cross entropy loss function (equation 5.24 in the loss notes)\n",
        "loss_function = nn.CrossEntropyLoss()\n",
        "# construct SGD optimizer and initialize learning rate and momentum\n",
        "optimizer = torch.optim.SGD(model.parameters(), lr = 0.05, momentum=0.9)\n",
        "# object that decreases learning rate by half every 20 epochs\n",
        "scheduler = StepLR(optimizer, step_size=20, gamma=0.5)\n",
        "# convert data to torch tensors\n",
        "x_train = torch.tensor(train_data_x.transpose().astype('float32'))\n",
        "y_train = torch.tensor(train_data_y.astype('long'))\n",
        "x_val= torch.tensor(val_data_x.transpose().astype('float32'))\n",
        "y_val = torch.tensor(val_data_y.astype('long'))\n",
        "\n",
        "# load the data into a class that creates the batches\n",
        "data_loader = DataLoader(TensorDataset(x_train,y_train), batch_size=100, shuffle=True, worker_init_fn=np.random.seed(1))\n",
        "\n",
        "# Initialize model weights\n",
        "model.apply(weights_init)\n",
        "\n",
        "# loop over the dataset n_epoch times\n",
        "n_epoch = 100\n",
        "# store the loss and the % correct at each epoch\n",
        "losses_train = np.zeros((n_epoch))\n",
        "errors_train = np.zeros((n_epoch))\n",
        "losses_val = np.zeros((n_epoch))\n",
        "errors_val = np.zeros((n_epoch))\n",
        "\n",
        "for epoch in range(n_epoch):\n",
        "  # loop over batches\n",
        "  for i, data in enumerate(data_loader):\n",
        "    # retrieve inputs and labels for this batch\n",
        "    x_batch, y_batch = data\n",
        "    # zero the parameter gradients\n",
        "    optimizer.zero_grad()\n",
        "    # forward pass -- calculate model output\n",
        "    pred = model(x_batch)\n",
        "    # compute the loss\n",
        "    loss = loss_function(pred, y_batch)\n",
        "    # backward pass\n",
        "    loss.backward()\n",
        "    # SGD update\n",
        "    optimizer.step()\n",
        "\n",
        "  # Run whole dataset to get statistics -- normally wouldn't do this\n",
        "  pred_train = model(x_train)\n",
        "  pred_val = model(x_val)\n",
        "  _, predicted_train_class = torch.max(pred_train.data, 1)\n",
        "  _, predicted_val_class = torch.max(pred_val.data, 1)\n",
        "  errors_train[epoch] = 100 - 100 * (predicted_train_class == y_train).float().sum() / len(y_train)\n",
        "  errors_val[epoch]= 100 - 100 * (predicted_val_class == y_val).float().sum() / len(y_val)\n",
        "  losses_train[epoch] = loss_function(pred_train, y_train).item()\n",
        "  losses_val[epoch]= loss_function(pred_val, y_val).item()\n",
        "  print(f'Epoch {epoch:5d}, train loss {losses_train[epoch]:.6f}, train error {errors_train[epoch]:3.2f},  val loss {losses_val[epoch]:.6f}, percent error {errors_val[epoch]:3.2f}')\n",
        "\n",
        "  # tell scheduler to consider updating learning rate\n",
        "  scheduler.step()"
      ],
      "metadata": {
        "id": "NYw8I_3mmX5c",
        "outputId": "008694ed-501e-4a61-fc74-ce9e0a1a4afe",
        "colab": {
          "base_uri": "https://localhost:8080/"
        }
      },
      "execution_count": 18,
      "outputs": [
        {
          "output_type": "stream",
          "name": "stdout",
          "text": [
            "Initialized MLPBase model with 25310 parameters\n",
            "Epoch     0, train loss 1.902171, train error 72.25,  val loss 1.923679, percent error 73.30\n",
            "Epoch     1, train loss 1.720363, train error 68.40,  val loss 1.762285, percent error 73.30\n",
            "Epoch     2, train loss 1.735007, train error 69.55,  val loss 1.772814, percent error 72.60\n",
            "Epoch     3, train loss 1.668967, train error 67.03,  val loss 1.718337, percent error 71.00\n",
            "Epoch     4, train loss 1.648782, train error 65.68,  val loss 1.697047, percent error 68.90\n",
            "Epoch     5, train loss 1.651081, train error 65.93,  val loss 1.685892, percent error 69.30\n",
            "Epoch     6, train loss 1.648695, train error 65.05,  val loss 1.688012, percent error 68.70\n",
            "Epoch     7, train loss 1.636816, train error 65.15,  val loss 1.698158, percent error 69.20\n",
            "Epoch     8, train loss 1.642157, train error 64.93,  val loss 1.690270, percent error 69.40\n",
            "Epoch     9, train loss 1.625209, train error 64.65,  val loss 1.679883, percent error 68.90\n",
            "Epoch    10, train loss 1.635870, train error 65.53,  val loss 1.683115, percent error 69.20\n",
            "Epoch    11, train loss 1.615333, train error 63.67,  val loss 1.673713, percent error 68.30\n",
            "Epoch    12, train loss 1.635767, train error 65.00,  val loss 1.690122, percent error 68.60\n",
            "Epoch    13, train loss 1.656388, train error 67.30,  val loss 1.698633, percent error 69.10\n",
            "Epoch    14, train loss 1.640468, train error 65.80,  val loss 1.682222, percent error 69.10\n",
            "Epoch    15, train loss 1.642444, train error 64.55,  val loss 1.691902, percent error 67.60\n",
            "Epoch    16, train loss 1.622287, train error 63.83,  val loss 1.675651, percent error 69.00\n",
            "Epoch    17, train loss 1.622663, train error 64.45,  val loss 1.668278, percent error 67.90\n",
            "Epoch    18, train loss 1.637737, train error 66.47,  val loss 1.674441, percent error 69.30\n",
            "Epoch    19, train loss 1.637117, train error 66.20,  val loss 1.696435, percent error 68.00\n",
            "Epoch    20, train loss 1.604190, train error 63.65,  val loss 1.663051, percent error 67.70\n",
            "Epoch    21, train loss 1.601577, train error 63.12,  val loss 1.660309, percent error 67.70\n",
            "Epoch    22, train loss 1.597346, train error 63.40,  val loss 1.653592, percent error 69.10\n",
            "Epoch    23, train loss 1.609279, train error 63.38,  val loss 1.681100, percent error 67.80\n",
            "Epoch    24, train loss 1.604524, train error 62.85,  val loss 1.668462, percent error 67.20\n",
            "Epoch    25, train loss 1.609776, train error 63.53,  val loss 1.679415, percent error 70.40\n",
            "Epoch    26, train loss 1.596998, train error 62.88,  val loss 1.651068, percent error 67.50\n",
            "Epoch    27, train loss 1.598414, train error 62.90,  val loss 1.651546, percent error 67.10\n",
            "Epoch    28, train loss 1.604623, train error 64.05,  val loss 1.668750, percent error 68.60\n",
            "Epoch    29, train loss 1.603518, train error 63.47,  val loss 1.670261, percent error 67.40\n",
            "Epoch    30, train loss 1.599795, train error 63.15,  val loss 1.666228, percent error 67.50\n",
            "Epoch    31, train loss 1.599682, train error 64.25,  val loss 1.671128, percent error 68.00\n",
            "Epoch    32, train loss 1.595931, train error 63.33,  val loss 1.657301, percent error 67.70\n",
            "Epoch    33, train loss 1.596418, train error 63.55,  val loss 1.669146, percent error 67.90\n",
            "Epoch    34, train loss 1.604091, train error 63.58,  val loss 1.670288, percent error 69.20\n",
            "Epoch    35, train loss 1.605494, train error 63.60,  val loss 1.664630, percent error 68.40\n",
            "Epoch    36, train loss 1.599725, train error 63.25,  val loss 1.664729, percent error 68.10\n",
            "Epoch    37, train loss 1.594845, train error 63.30,  val loss 1.658938, percent error 67.70\n",
            "Epoch    38, train loss 1.612235, train error 63.70,  val loss 1.665848, percent error 68.80\n",
            "Epoch    39, train loss 1.601079, train error 63.28,  val loss 1.665074, percent error 68.50\n",
            "Epoch    40, train loss 1.592897, train error 63.45,  val loss 1.660249, percent error 68.20\n",
            "Epoch    41, train loss 1.593236, train error 62.28,  val loss 1.662038, percent error 66.40\n",
            "Epoch    42, train loss 1.587717, train error 62.20,  val loss 1.655154, percent error 67.30\n",
            "Epoch    43, train loss 1.589298, train error 62.85,  val loss 1.660313, percent error 68.00\n",
            "Epoch    44, train loss 1.590968, train error 62.97,  val loss 1.665874, percent error 66.50\n",
            "Epoch    45, train loss 1.590132, train error 62.67,  val loss 1.663486, percent error 67.60\n",
            "Epoch    46, train loss 1.589864, train error 62.72,  val loss 1.668462, percent error 67.40\n",
            "Epoch    47, train loss 1.587335, train error 62.72,  val loss 1.661110, percent error 66.40\n",
            "Epoch    48, train loss 1.587114, train error 62.40,  val loss 1.665208, percent error 66.80\n",
            "Epoch    49, train loss 1.586725, train error 62.20,  val loss 1.658617, percent error 67.30\n",
            "Epoch    50, train loss 1.591423, train error 63.12,  val loss 1.665592, percent error 67.60\n",
            "Epoch    51, train loss 1.586493, train error 62.38,  val loss 1.661405, percent error 67.50\n",
            "Epoch    52, train loss 1.587427, train error 62.65,  val loss 1.659315, percent error 67.00\n",
            "Epoch    53, train loss 1.587060, train error 62.83,  val loss 1.663109, percent error 67.40\n",
            "Epoch    54, train loss 1.589603, train error 62.35,  val loss 1.664381, percent error 67.30\n",
            "Epoch    55, train loss 1.596836, train error 62.95,  val loss 1.672871, percent error 68.40\n",
            "Epoch    56, train loss 1.590472, train error 62.75,  val loss 1.666963, percent error 67.70\n",
            "Epoch    57, train loss 1.588611, train error 62.85,  val loss 1.664008, percent error 67.80\n",
            "Epoch    58, train loss 1.588166, train error 62.85,  val loss 1.661559, percent error 66.80\n",
            "Epoch    59, train loss 1.586094, train error 62.53,  val loss 1.658395, percent error 67.20\n",
            "Epoch    60, train loss 1.586039, train error 62.95,  val loss 1.659819, percent error 66.50\n",
            "Epoch    61, train loss 1.586274, train error 62.83,  val loss 1.662589, percent error 68.20\n",
            "Epoch    62, train loss 1.587983, train error 62.60,  val loss 1.667300, percent error 66.70\n",
            "Epoch    63, train loss 1.585128, train error 62.60,  val loss 1.662000, percent error 67.10\n",
            "Epoch    64, train loss 1.585537, train error 62.78,  val loss 1.661465, percent error 66.60\n",
            "Epoch    65, train loss 1.585651, train error 62.60,  val loss 1.661762, percent error 67.10\n",
            "Epoch    66, train loss 1.584944, train error 62.72,  val loss 1.662942, percent error 67.00\n",
            "Epoch    67, train loss 1.585456, train error 62.35,  val loss 1.662199, percent error 67.30\n",
            "Epoch    68, train loss 1.589148, train error 62.58,  val loss 1.664901, percent error 67.30\n",
            "Epoch    69, train loss 1.584419, train error 62.55,  val loss 1.659943, percent error 67.30\n",
            "Epoch    70, train loss 1.586183, train error 62.47,  val loss 1.659521, percent error 67.80\n",
            "Epoch    71, train loss 1.584949, train error 62.75,  val loss 1.664286, percent error 67.80\n",
            "Epoch    72, train loss 1.584732, train error 62.45,  val loss 1.661733, percent error 67.30\n",
            "Epoch    73, train loss 1.587970, train error 62.75,  val loss 1.662501, percent error 67.90\n",
            "Epoch    74, train loss 1.584954, train error 62.83,  val loss 1.663767, percent error 67.10\n",
            "Epoch    75, train loss 1.584443, train error 62.60,  val loss 1.660823, percent error 67.80\n",
            "Epoch    76, train loss 1.586084, train error 62.83,  val loss 1.663715, percent error 67.90\n",
            "Epoch    77, train loss 1.585543, train error 62.58,  val loss 1.662621, percent error 67.40\n",
            "Epoch    78, train loss 1.584204, train error 62.58,  val loss 1.659242, percent error 67.20\n",
            "Epoch    79, train loss 1.586772, train error 63.05,  val loss 1.665478, percent error 67.20\n",
            "Epoch    80, train loss 1.584894, train error 63.00,  val loss 1.664739, percent error 67.30\n",
            "Epoch    81, train loss 1.585687, train error 62.40,  val loss 1.660929, percent error 67.70\n",
            "Epoch    82, train loss 1.583793, train error 62.50,  val loss 1.662192, percent error 67.00\n",
            "Epoch    83, train loss 1.583894, train error 62.67,  val loss 1.662457, percent error 67.30\n",
            "Epoch    84, train loss 1.583984, train error 62.65,  val loss 1.663332, percent error 67.50\n",
            "Epoch    85, train loss 1.583781, train error 62.67,  val loss 1.662435, percent error 67.20\n",
            "Epoch    86, train loss 1.583875, train error 62.53,  val loss 1.661131, percent error 67.30\n",
            "Epoch    87, train loss 1.584062, train error 62.40,  val loss 1.661893, percent error 67.40\n",
            "Epoch    88, train loss 1.584874, train error 62.72,  val loss 1.664156, percent error 67.40\n",
            "Epoch    89, train loss 1.584063, train error 62.67,  val loss 1.661939, percent error 67.70\n",
            "Epoch    90, train loss 1.583900, train error 62.60,  val loss 1.662421, percent error 67.10\n",
            "Epoch    91, train loss 1.585650, train error 62.42,  val loss 1.662953, percent error 67.60\n",
            "Epoch    92, train loss 1.583756, train error 62.50,  val loss 1.661711, percent error 67.40\n",
            "Epoch    93, train loss 1.584856, train error 62.67,  val loss 1.665693, percent error 67.10\n",
            "Epoch    94, train loss 1.583834, train error 62.42,  val loss 1.662746, percent error 67.50\n",
            "Epoch    95, train loss 1.585853, train error 62.53,  val loss 1.666549, percent error 67.30\n",
            "Epoch    96, train loss 1.584594, train error 62.70,  val loss 1.663262, percent error 67.50\n",
            "Epoch    97, train loss 1.584050, train error 62.67,  val loss 1.664107, percent error 67.00\n",
            "Epoch    98, train loss 1.583812, train error 62.67,  val loss 1.662712, percent error 67.20\n",
            "Epoch    99, train loss 1.585024, train error 62.45,  val loss 1.664608, percent error 67.60\n"
          ]
        }
      ]
    },
    {
      "cell_type": "code",
      "source": [
        "# Plot the results\n",
        "fig, ax = plt.subplots()\n",
        "ax.plot(errors_train,'r-',label='train')\n",
        "ax.plot(errors_val,'b-',label='test')\n",
        "ax.set_ylim(0,100); ax.set_xlim(0,n_epoch)\n",
        "ax.set_xlabel('Epoch'); ax.set_ylabel('Error')\n",
        "ax.set_title('TrainError %3.2f, Val Error %3.2f'%(errors_train[-1],errors_val[-1]))\n",
        "ax.legend()\n",
        "plt.show()"
      ],
      "metadata": {
        "id": "CcP_VyEmE2sv",
        "outputId": "a8ec309f-4b3c-4a9f-9677-279808d16ed8",
        "colab": {
          "base_uri": "https://localhost:8080/",
          "height": 472
        }
      },
      "execution_count": 15,
      "outputs": [
        {
          "output_type": "display_data",
          "data": {
            "text/plain": [
              "<Figure size 640x480 with 1 Axes>"
            ],
            "image/png": "[encoded data removed]"
          },
          "metadata": {}
        }
      ]
    },
    {
      "cell_type": "markdown",
      "source": [
        "\\The primary motivation of residual networks is to allow training of much deeper networks.   \n",
        "\n",
        "TODO: Try running this network with and without the residual connections.  Does adding the residual connections change the performance?"
      ],
      "metadata": {
        "id": "wMmqhmxuAx0M"
      }
    },
    {
      "cell_type": "code",
      "source": [],
      "metadata": {
        "id": "QiwFe7lyrP-2"
      },
      "execution_count": 11,
      "outputs": []
    }
  ]
}