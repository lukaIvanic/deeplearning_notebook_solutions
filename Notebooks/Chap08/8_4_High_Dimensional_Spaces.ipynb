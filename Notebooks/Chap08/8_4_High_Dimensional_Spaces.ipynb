{
  "nbformat": 4,
  "nbformat_minor": 0,
  "metadata": {
    "colab": {
      "provenance": [],
      "include_colab_link": true
    },
    "kernelspec": {
      "name": "python3",
      "display_name": "Python 3"
    },
    "language_info": {
      "name": "python"
    }
  },
  "cells": [
    {
      "cell_type": "markdown",
      "metadata": {
        "id": "view-in-github",
        "colab_type": "text"
      },
      "source": [
        "<a href=\"https://colab.research.google.com/github/lukaIvanic/deeplearning_notebook_solutions/blob/main/Notebooks/Chap08/8_4_High_Dimensional_Spaces.ipynb\" target=\"_parent\"><img src=\"https://colab.research.google.com/assets/colab-badge.svg\" alt=\"Open In Colab\"/></a>"
      ]
    },
    {
      "cell_type": "markdown",
      "source": [
        "# **Notebook 8.4: High-dimensional spaces**\n",
        "\n",
        "This notebook investigates the strange properties of high-dimensional spaces as discussed in the notes at the end of chapter 8.\n",
        "\n",
        "Work through the cells below, running each cell in turn. In various places you will see the words \"TODO\". Follow the instructions at these places and make predictions about what is going to happen or write code to complete the functions.\n",
        "\n",
        "Contact me at udlbookmail@gmail.com if you find any mistakes or have any suggestions."
      ],
      "metadata": {
        "id": "EjLK-kA1KnYX"
      }
    },
    {
      "cell_type": "code",
      "execution_count": 1,
      "metadata": {
        "id": "4ESMmnkYEVAb"
      },
      "outputs": [],
      "source": [
        "import numpy as np\n",
        "import matplotlib.pyplot as plt\n",
        "import scipy.special as sci"
      ]
    },
    {
      "cell_type": "markdown",
      "source": [
        "# How close are points in high dimensions?\n",
        "\n",
        "In this part of the notebook, we investigate how close random points are in 2D, 100D, and 1000D.   In each case, we generate 1000 points and calculate the Euclidean distance between each pair.  "
      ],
      "metadata": {
        "id": "MonbPEitLNgN"
      }
    },
    {
      "cell_type": "code",
      "source": [
        "# Fix the random seed so we all have the same random numbers\n",
        "np.random.seed(0)\n",
        "n_data = 1000\n",
        "# Create 1000 data examples (columns) each with 2 dimensions (rows)\n",
        "n_dim = 2\n",
        "x_2D = np.random.normal(size=(n_data, n_dim))\n",
        "# Create 1000 data examples (columns) each with 100 dimensions (rows)\n",
        "n_dim = 100\n",
        "x_100D = np.random.normal(size=(n_data, n_dim))\n",
        "# Create 1000 data examples (columns) each with 1000 dimensions (rows)\n",
        "n_dim = 1000\n",
        "x_1000D = np.random.normal(size=(n_data, n_dim))\n",
        "\n",
        "print(\"2D: \", x_2D)\n",
        "print(\"100D: \", x_100D)\n",
        "print(\"1000D: \", x_1000D)"
      ],
      "metadata": {
        "id": "vZSHVmcWEk14",
        "outputId": "29a6efb0-84c5-4c50-dce1-f8ea46ebfe8e",
        "colab": {
          "base_uri": "https://localhost:8080/"
        }
      },
      "execution_count": 7,
      "outputs": [
        {
          "output_type": "stream",
          "name": "stdout",
          "text": [
            "2D:  [[ 1.76405235  0.40015721]\n",
            " [ 0.97873798  2.2408932 ]\n",
            " [ 1.86755799 -0.97727788]\n",
            " ...\n",
            " [ 0.19782817  0.0977508 ]\n",
            " [ 1.40152342  0.15843385]\n",
            " [-1.14190142 -1.31097037]]\n",
            "100D:  [[-1.53292105e+00 -1.71197016e+00  4.61350590e-02 ... -9.44870197e-01\n",
            "   5.70788529e-01  1.54279634e+00]\n",
            " [-4.17326413e-04  3.74155086e-01  4.09551778e-01 ...  1.73457217e+00\n",
            "  -1.09828943e+00  5.72613353e-01]\n",
            " [-8.61215553e-01 -5.09595133e-01  1.09858165e+00 ... -5.60981003e-01\n",
            "  -1.36294095e+00 -7.91756516e-01]\n",
            " ...\n",
            " [ 3.47373570e-01  4.66784991e-01 -1.87969368e+00 ... -8.95664623e-01\n",
            "   1.37686034e+00 -1.49126881e+00]\n",
            " [-2.55105792e-01 -9.61690571e-01  4.82159976e-01 ... -2.75734422e+00\n",
            "  -6.14868625e-01  3.10324904e-02]\n",
            " [-7.96775273e-01  1.13019983e+00  8.30013180e-01 ...  4.43156202e-01\n",
            "  -6.32574547e-01  7.95714214e-01]]\n",
            "1000D:  [[ 1.59744497  0.23940313 -0.71196816 ... -0.26916336 -1.51280435\n",
            "  -1.44134795]\n",
            " [ 0.0664282   0.29240263 -0.03077322 ... -1.05516782  1.1857924\n",
            "   0.22426993]\n",
            " [-0.20820411  0.1747808   1.41962224 ... -1.57776503  0.73710153\n",
            "  -0.82001657]\n",
            " ...\n",
            " [ 1.02461855  0.35681159  0.36942343 ... -0.77833688 -0.48271089\n",
            "   1.63280799]\n",
            " [-0.13120699 -0.09788538  0.86302974 ...  0.15579208  0.47786139\n",
            "  -0.42751564]\n",
            " [ 0.10085892  1.00153014  0.08585841 ...  0.15871683 -0.10854079\n",
            "   0.28375599]]\n"
          ]
        }
      ]
    },
    {
      "cell_type": "code",
      "source": [
        "def distance_ratio(x):\n",
        "  # TODO -- replace the two lines below to calculate the largest and smallest Euclidean distance between\n",
        "  # the data points in the columns of x.  DO NOT include the distance between the data point\n",
        "  # and itself (which is obviously zero)\n",
        "  smallest_dist = float('inf')\n",
        "  largest_dist = 0.0\n",
        "\n",
        "  for i in range(len(x)):\n",
        "    for j in range(len(x)):\n",
        "      if i != j:\n",
        "        dist = np.sqrt(np.sum((x[i]-x[j])**2))\n",
        "\n",
        "        smallest_dist = min(smallest_dist, dist)\n",
        "        largest_dist = max(largest_dist, dist)\n",
        "\n",
        "\n",
        "  # Calculate the ratio and return\n",
        "  dist_ratio = largest_dist / smallest_dist\n",
        "  return dist_ratio"
      ],
      "metadata": {
        "id": "PhVmnUs8ErD9"
      },
      "execution_count": 8,
      "outputs": []
    },
    {
      "cell_type": "code",
      "source": [
        "print('Ratio of largest to smallest distance 2D: %3.3f'%(distance_ratio(x_2D)))\n",
        "print('Ratio of largest to smallest distance 100D: %3.3f'%(distance_ratio(x_100D)))\n",
        "print('Ratio of largest to smallest distance 1000D: %3.3f'%(distance_ratio(x_1000D)))\n"
      ],
      "metadata": {
        "id": "0NdPxfn5GQuJ",
        "outputId": "404da747-741d-400a-b03a-94231ae3e8c5",
        "colab": {
          "base_uri": "https://localhost:8080/"
        }
      },
      "execution_count": 9,
      "outputs": [
        {
          "output_type": "stream",
          "name": "stdout",
          "text": [
            "Ratio of largest to smallest distance 2D: 2699.982\n",
            "Ratio of largest to smallest distance 100D: 1.974\n",
            "Ratio of largest to smallest distance 1000D: 1.228\n"
          ]
        }
      ]
    },
    {
      "cell_type": "markdown",
      "source": [
        "If you did this right, you will see that the distance between the nearest and farthest two points in high dimensions is almost the same.  "
      ],
      "metadata": {
        "id": "uT68c0k8uBxs"
      }
    },
    {
      "cell_type": "markdown",
      "source": [
        "# Volume of a hypersphere\n",
        "\n",
        "In the second part of this notebook we calculate the volume of a hypersphere of radius 0.5 (i.e., of diameter 1) as a function of the radius.  Note that you can check your answer by doing the calculation for 2D using the standard formula for the area of a circle and making sure it matches."
      ],
      "metadata": {
        "id": "b2FYKV1SL4Z7"
      }
    },
    {
      "cell_type": "code",
      "source": [
        "def volume_of_hypersphere(diameter, dimensions):\n",
        "  # Formula given in Problem 8.7 of the book\n",
        "  # You will need sci.gamma()\n",
        "  # Check out:    https://docs.scipy.org/doc/scipy/reference/generated/scipy.special.gamma.html\n",
        "  # Also use this value for pi\n",
        "  pi = np.pi\n",
        "  # TODO replace this code with formula for the volume of a hypersphere\n",
        "  volume = (((diameter/2)**dimensions)*(pi**(dimensions/2)))/(sci.gamma(dimensions/2 + 1))\n",
        "\n",
        "  return volume\n"
      ],
      "metadata": {
        "id": "CZoNhD8XJaHR"
      },
      "execution_count": 12,
      "outputs": []
    },
    {
      "cell_type": "code",
      "source": [
        "diameter = 1.0\n",
        "for c_dim in range(1,100):\n",
        "  print(\"Volume of unit diameter hypersphere in %d dimensions is %f\"%(c_dim, volume_of_hypersphere(diameter, c_dim)))"
      ],
      "metadata": {
        "id": "fNTBlg_GPEUh",
        "outputId": "8887f486-7cd5-42ab-e2e7-5ee5d98bd579",
        "colab": {
          "base_uri": "https://localhost:8080/"
        }
      },
      "execution_count": 15,
      "outputs": [
        {
          "output_type": "stream",
          "name": "stdout",
          "text": [
            "Volume of unit diameter hypersphere in 1 dimensions is 1.000000\n",
            "Volume of unit diameter hypersphere in 2 dimensions is 0.785398\n",
            "Volume of unit diameter hypersphere in 3 dimensions is 0.523599\n",
            "Volume of unit diameter hypersphere in 4 dimensions is 0.308425\n",
            "Volume of unit diameter hypersphere in 5 dimensions is 0.164493\n",
            "Volume of unit diameter hypersphere in 6 dimensions is 0.080746\n",
            "Volume of unit diameter hypersphere in 7 dimensions is 0.036912\n",
            "Volume of unit diameter hypersphere in 8 dimensions is 0.015854\n",
            "Volume of unit diameter hypersphere in 9 dimensions is 0.006442\n",
            "Volume of unit diameter hypersphere in 10 dimensions is 0.002490\n",
            "Volume of unit diameter hypersphere in 11 dimensions is 0.000920\n",
            "Volume of unit diameter hypersphere in 12 dimensions is 0.000326\n",
            "Volume of unit diameter hypersphere in 13 dimensions is 0.000111\n",
            "Volume of unit diameter hypersphere in 14 dimensions is 0.000037\n",
            "Volume of unit diameter hypersphere in 15 dimensions is 0.000012\n",
            "Volume of unit diameter hypersphere in 16 dimensions is 0.000004\n",
            "Volume of unit diameter hypersphere in 17 dimensions is 0.000001\n",
            "Volume of unit diameter hypersphere in 18 dimensions is 0.000000\n",
            "Volume of unit diameter hypersphere in 19 dimensions is 0.000000\n",
            "Volume of unit diameter hypersphere in 20 dimensions is 0.000000\n",
            "Volume of unit diameter hypersphere in 21 dimensions is 0.000000\n",
            "Volume of unit diameter hypersphere in 22 dimensions is 0.000000\n",
            "Volume of unit diameter hypersphere in 23 dimensions is 0.000000\n",
            "Volume of unit diameter hypersphere in 24 dimensions is 0.000000\n",
            "Volume of unit diameter hypersphere in 25 dimensions is 0.000000\n",
            "Volume of unit diameter hypersphere in 26 dimensions is 0.000000\n",
            "Volume of unit diameter hypersphere in 27 dimensions is 0.000000\n",
            "Volume of unit diameter hypersphere in 28 dimensions is 0.000000\n",
            "Volume of unit diameter hypersphere in 29 dimensions is 0.000000\n",
            "Volume of unit diameter hypersphere in 30 dimensions is 0.000000\n",
            "Volume of unit diameter hypersphere in 31 dimensions is 0.000000\n",
            "Volume of unit diameter hypersphere in 32 dimensions is 0.000000\n",
            "Volume of unit diameter hypersphere in 33 dimensions is 0.000000\n",
            "Volume of unit diameter hypersphere in 34 dimensions is 0.000000\n",
            "Volume of unit diameter hypersphere in 35 dimensions is 0.000000\n",
            "Volume of unit diameter hypersphere in 36 dimensions is 0.000000\n",
            "Volume of unit diameter hypersphere in 37 dimensions is 0.000000\n",
            "Volume of unit diameter hypersphere in 38 dimensions is 0.000000\n",
            "Volume of unit diameter hypersphere in 39 dimensions is 0.000000\n",
            "Volume of unit diameter hypersphere in 40 dimensions is 0.000000\n",
            "Volume of unit diameter hypersphere in 41 dimensions is 0.000000\n",
            "Volume of unit diameter hypersphere in 42 dimensions is 0.000000\n",
            "Volume of unit diameter hypersphere in 43 dimensions is 0.000000\n",
            "Volume of unit diameter hypersphere in 44 dimensions is 0.000000\n",
            "Volume of unit diameter hypersphere in 45 dimensions is 0.000000\n",
            "Volume of unit diameter hypersphere in 46 dimensions is 0.000000\n",
            "Volume of unit diameter hypersphere in 47 dimensions is 0.000000\n",
            "Volume of unit diameter hypersphere in 48 dimensions is 0.000000\n",
            "Volume of unit diameter hypersphere in 49 dimensions is 0.000000\n",
            "Volume of unit diameter hypersphere in 50 dimensions is 0.000000\n",
            "Volume of unit diameter hypersphere in 51 dimensions is 0.000000\n",
            "Volume of unit diameter hypersphere in 52 dimensions is 0.000000\n",
            "Volume of unit diameter hypersphere in 53 dimensions is 0.000000\n",
            "Volume of unit diameter hypersphere in 54 dimensions is 0.000000\n",
            "Volume of unit diameter hypersphere in 55 dimensions is 0.000000\n",
            "Volume of unit diameter hypersphere in 56 dimensions is 0.000000\n",
            "Volume of unit diameter hypersphere in 57 dimensions is 0.000000\n",
            "Volume of unit diameter hypersphere in 58 dimensions is 0.000000\n",
            "Volume of unit diameter hypersphere in 59 dimensions is 0.000000\n",
            "Volume of unit diameter hypersphere in 60 dimensions is 0.000000\n",
            "Volume of unit diameter hypersphere in 61 dimensions is 0.000000\n",
            "Volume of unit diameter hypersphere in 62 dimensions is 0.000000\n",
            "Volume of unit diameter hypersphere in 63 dimensions is 0.000000\n",
            "Volume of unit diameter hypersphere in 64 dimensions is 0.000000\n",
            "Volume of unit diameter hypersphere in 65 dimensions is 0.000000\n",
            "Volume of unit diameter hypersphere in 66 dimensions is 0.000000\n",
            "Volume of unit diameter hypersphere in 67 dimensions is 0.000000\n",
            "Volume of unit diameter hypersphere in 68 dimensions is 0.000000\n",
            "Volume of unit diameter hypersphere in 69 dimensions is 0.000000\n",
            "Volume of unit diameter hypersphere in 70 dimensions is 0.000000\n",
            "Volume of unit diameter hypersphere in 71 dimensions is 0.000000\n",
            "Volume of unit diameter hypersphere in 72 dimensions is 0.000000\n",
            "Volume of unit diameter hypersphere in 73 dimensions is 0.000000\n",
            "Volume of unit diameter hypersphere in 74 dimensions is 0.000000\n",
            "Volume of unit diameter hypersphere in 75 dimensions is 0.000000\n",
            "Volume of unit diameter hypersphere in 76 dimensions is 0.000000\n",
            "Volume of unit diameter hypersphere in 77 dimensions is 0.000000\n",
            "Volume of unit diameter hypersphere in 78 dimensions is 0.000000\n",
            "Volume of unit diameter hypersphere in 79 dimensions is 0.000000\n",
            "Volume of unit diameter hypersphere in 80 dimensions is 0.000000\n",
            "Volume of unit diameter hypersphere in 81 dimensions is 0.000000\n",
            "Volume of unit diameter hypersphere in 82 dimensions is 0.000000\n",
            "Volume of unit diameter hypersphere in 83 dimensions is 0.000000\n",
            "Volume of unit diameter hypersphere in 84 dimensions is 0.000000\n",
            "Volume of unit diameter hypersphere in 85 dimensions is 0.000000\n",
            "Volume of unit diameter hypersphere in 86 dimensions is 0.000000\n",
            "Volume of unit diameter hypersphere in 87 dimensions is 0.000000\n",
            "Volume of unit diameter hypersphere in 88 dimensions is 0.000000\n",
            "Volume of unit diameter hypersphere in 89 dimensions is 0.000000\n",
            "Volume of unit diameter hypersphere in 90 dimensions is 0.000000\n",
            "Volume of unit diameter hypersphere in 91 dimensions is 0.000000\n",
            "Volume of unit diameter hypersphere in 92 dimensions is 0.000000\n",
            "Volume of unit diameter hypersphere in 93 dimensions is 0.000000\n",
            "Volume of unit diameter hypersphere in 94 dimensions is 0.000000\n",
            "Volume of unit diameter hypersphere in 95 dimensions is 0.000000\n",
            "Volume of unit diameter hypersphere in 96 dimensions is 0.000000\n",
            "Volume of unit diameter hypersphere in 97 dimensions is 0.000000\n",
            "Volume of unit diameter hypersphere in 98 dimensions is 0.000000\n",
            "Volume of unit diameter hypersphere in 99 dimensions is 0.000000\n"
          ]
        }
      ]
    },
    {
      "cell_type": "markdown",
      "source": [
        "You should see that the volume decreases to almost nothing in high dimensions.  All of the volume is in the corners of the unit hypercube (which always has volume 1)."
      ],
      "metadata": {
        "id": "PtaeGSNBunJl"
      }
    },
    {
      "cell_type": "markdown",
      "source": [
        "# Proportion of hypersphere in outer shell\n",
        "\n",
        "In the third part of the notebook you will calculate what proportion of the volume of a hypersphere is in the outer 1% of the radius/diameter.  Calculate the volume of a hypersphere and then the volume of a hypersphere with 0.99 of the radius and then figure out the ratio.  "
      ],
      "metadata": {
        "id": "GdyMeOBmoXyF"
      }
    },
    {
      "cell_type": "code",
      "source": [
        "def get_prop_of_volume_in_outer_1_percent(dimension):\n",
        "  # TODO -- replace this line\n",
        "  proportion = ((volume_of_hypersphere(1.0, dimension)) - volume_of_hypersphere(0.99, dimension))/(volume_of_hypersphere(1.0, dimension))\n",
        "\n",
        "  return proportion"
      ],
      "metadata": {
        "id": "8_CxZ2AIpQ8w"
      },
      "execution_count": 18,
      "outputs": []
    },
    {
      "cell_type": "code",
      "source": [
        "# While we're here, let's look at how much of the volume is in the outer 1% of the radius\n",
        "for c_dim in [1,2,10,20,50,100,150,200,250,300]:\n",
        "  print('Proportion of volume in outer 1 percent of radius in %d dimensions =%3.3f'%(c_dim, get_prop_of_volume_in_outer_1_percent(c_dim)))"
      ],
      "metadata": {
        "id": "LtMDIn2qPVfJ",
        "outputId": "e1a1a917-72c8-4583-9103-6ed08eeadb1f",
        "colab": {
          "base_uri": "https://localhost:8080/"
        }
      },
      "execution_count": 19,
      "outputs": [
        {
          "output_type": "stream",
          "name": "stdout",
          "text": [
            "Proportion of volume in outer 1 percent of radius in 1 dimensions =0.010\n",
            "Proportion of volume in outer 1 percent of radius in 2 dimensions =0.020\n",
            "Proportion of volume in outer 1 percent of radius in 10 dimensions =0.096\n",
            "Proportion of volume in outer 1 percent of radius in 20 dimensions =0.182\n",
            "Proportion of volume in outer 1 percent of radius in 50 dimensions =0.395\n",
            "Proportion of volume in outer 1 percent of radius in 100 dimensions =0.634\n",
            "Proportion of volume in outer 1 percent of radius in 150 dimensions =0.779\n",
            "Proportion of volume in outer 1 percent of radius in 200 dimensions =0.866\n",
            "Proportion of volume in outer 1 percent of radius in 250 dimensions =0.919\n",
            "Proportion of volume in outer 1 percent of radius in 300 dimensions =0.951\n"
          ]
        }
      ]
    },
    {
      "cell_type": "markdown",
      "source": [
        "You should see that by the time we get to 300 dimensions most of the volume is in the outer 1 percent. <br><br>\n",
        "\n",
        "The conclusion of all of this is that in high dimensions you should be sceptical of your intuitions about how things work.  I have tried to visualize many things in one or two dimensions in the book, but you should also be sceptical about these visualizations!"
      ],
      "metadata": {
        "id": "n_FVeb-ZwzxD"
      }
    },
    {
      "cell_type": "code",
      "source": [],
      "metadata": {
        "id": "VwNpjm4-1VXc"
      },
      "execution_count": null,
      "outputs": []
    }
  ]
}